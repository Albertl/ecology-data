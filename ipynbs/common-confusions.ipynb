{
 "metadata": {
  "name": "common-confusions"
 },
 "nbformat": 3,
 "nbformat_minor": 0,
 "worksheets": [
  {
   "cells": [
    {
     "cell_type": "markdown",
     "metadata": {},
     "source": [
      "Common points of confusion\n",
      "==========================\n",
      "Learning to program is hard and there are lots of points of confusion among beginners.\n",
      "Here are some reminders and demonstrations to help overcome some of the most common.\n",
      "\n",
      "* Functions\n",
      "* [For loops](#forloops)"
     ]
    },
    {
     "cell_type": "markdown",
     "metadata": {},
     "source": [
      "Functions\n",
      "---------\n",
      "\n",
      "* You have to call/run/execute a function for it to do anything.\n",
      "* You must store the output of the function to work with it (or use it immediately)\n",
      "* You must ``return`` something from the function to us it.\n",
      "Variables inside the function do not exist after the function has finished executing.\n",
      "This ``return`` is the last thing done by the function.\n",
      "\n",
      "\n",
      "### Python Tutor demo\n",
      "On it's own, the following function does nothing"
     ]
    },
    {
     "cell_type": "code",
     "collapsed": false,
     "input": [
      "def concatenate(string1, string2):\n",
      "    combined_string = string1 + string2\n",
      "    return combined_string"
     ],
     "language": "python",
     "metadata": {},
     "outputs": [],
     "prompt_number": 1
    },
    {
     "cell_type": "markdown",
     "metadata": {},
     "source": [
      "If we call it but do not do something with the output, it is lost."
     ]
    },
    {
     "cell_type": "code",
     "collapsed": false,
     "input": [
      "concatenate('ethan', 'white')\n",
      "print combined_string"
     ],
     "language": "python",
     "metadata": {},
     "outputs": [
      {
       "ename": "NameError",
       "evalue": "name 'combined_string' is not defined",
       "output_type": "pyerr",
       "traceback": [
        "\u001b[1;31m---------------------------------------------------------------------------\u001b[0m\n\u001b[1;31mNameError\u001b[0m                                 Traceback (most recent call last)",
        "\u001b[1;32m<ipython-input-2-882da32f77aa>\u001b[0m in \u001b[0;36m<module>\u001b[1;34m()\u001b[0m\n\u001b[0;32m      1\u001b[0m \u001b[0mconcatenate\u001b[0m\u001b[1;33m(\u001b[0m\u001b[1;34m'ethan'\u001b[0m\u001b[1;33m,\u001b[0m \u001b[1;34m'white'\u001b[0m\u001b[1;33m)\u001b[0m\u001b[1;33m\u001b[0m\u001b[0m\n\u001b[1;32m----> 2\u001b[1;33m \u001b[1;32mprint\u001b[0m \u001b[0mcombined_string\u001b[0m\u001b[1;33m\u001b[0m\u001b[0m\n\u001b[0m",
        "\u001b[1;31mNameError\u001b[0m: name 'combined_string' is not defined"
       ]
      }
     ],
     "prompt_number": 2
    },
    {
     "cell_type": "markdown",
     "metadata": {},
     "source": [
      "If we store the output then we can use it, or we can use it directly."
     ]
    },
    {
     "cell_type": "code",
     "collapsed": false,
     "input": [
      "result = concatenate('ethan', 'white')\n",
      "print result"
     ],
     "language": "python",
     "metadata": {},
     "outputs": [
      {
       "output_type": "stream",
       "stream": "stdout",
       "text": [
        "ethanwhite\n"
       ]
      }
     ],
     "prompt_number": 3
    },
    {
     "cell_type": "code",
     "collapsed": false,
     "input": [
      "print \"The name of our professor is %s\" % concatenate('ethan ', 'white')"
     ],
     "language": "python",
     "metadata": {},
     "outputs": [
      {
       "output_type": "stream",
       "stream": "stdout",
       "text": [
        "The name of our professor is ethan white\n"
       ]
      }
     ],
     "prompt_number": 4
    },
    {
     "cell_type": "markdown",
     "metadata": {},
     "source": [
      "But, this only works if we have returned the value explicitly."
     ]
    },
    {
     "cell_type": "code",
     "collapsed": false,
     "input": [
      "def concatenate(string1, string2):\n",
      "    combined_string = string1 + string2\n",
      "\n",
      "result = concatenate('ethan', 'white')\n",
      "print result"
     ],
     "language": "python",
     "metadata": {},
     "outputs": [
      {
       "output_type": "stream",
       "stream": "stdout",
       "text": [
        "None\n"
       ]
      }
     ],
     "prompt_number": 5
    },
    {
     "cell_type": "markdown",
     "metadata": {},
     "source": [
      "For loops <a id=\"forloops\"></a>\n",
      "---------\n"
     ]
    },
    {
     "cell_type": "code",
     "collapsed": false,
     "input": [],
     "language": "python",
     "metadata": {},
     "outputs": []
    }
   ],
   "metadata": {}
  }
 ]
}