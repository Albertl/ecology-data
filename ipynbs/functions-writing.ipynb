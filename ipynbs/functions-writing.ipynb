{
 "metadata": {
  "name": "functions-writing"
 }, 
 "nbformat": 2, 
 "worksheets": [
  {
   "cells": [
    {
     "cell_type": "markdown", 
     "source": [
      "Writing Functions", 
      "=================", 
      "You're probably already familiar with [using function](http://nbviewer.ipython.org/urls/github.com/weecology/progbio/raw/master/ipynbs/functions-using.ipynb), but how do you write you own?", 
      "", 
      "In Python we do this using the following structure:", 
      "", 
      "    def function_name(inputs):", 
      "        commands", 
      "        return output_value", 
      "", 
      "The `def` tells Python that we're creating a function, the `function_name` is how we refer to the function in our program, the commands control what the function does with the `inputs`, and the `return` statement tells Python what output to send back to the rest of the program. Then indentation is important because it tells Python what is inside the function. You end a function by stopping the indenting.", 
      "", 
      "For example, if we wanted to write a function that converts pounds to kilograms:"
     ]
    }, 
    {
     "cell_type": "code", 
     "collapsed": true, 
     "input": [
      "def convert_lbs_to_kg(weight_lbs):", 
      "    weight_kg = weight_lbs / 2.20462", 
      "    return weight_kg"
     ], 
     "language": "python", 
     "outputs": [], 
     "prompt_number": 1
    }, 
    {
     "cell_type": "markdown", 
     "source": [
      "We can then call that function exactly like we would one of Python's built in functions:"
     ]
    }, 
    {
     "cell_type": "code", 
     "collapsed": false, 
     "input": [
      "convert_lbs_to_kg(22)"
     ], 
     "language": "python", 
     "outputs": [
      {
       "output_type": "pyout", 
       "prompt_number": 2, 
       "text": [
        "9.979044007584074"
       ]
      }
     ], 
     "prompt_number": 2
    }
   ]
  }
 ]
}