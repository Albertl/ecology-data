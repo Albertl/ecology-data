{
 "metadata": {
  "name": "",
  "signature": "sha256:4a39569b6081c75be4216c6b2dd61f0b4007c0fd96be5cc4d86e0b5190b176f2"
 },
 "nbformat": 3,
 "nbformat_minor": 0,
 "worksheets": [
  {
   "cells": [
    {
     "cell_type": "heading",
     "level": 1,
     "metadata": {},
     "source": [
      "Statistics in Python"
     ]
    },
    {
     "cell_type": "markdown",
     "metadata": {},
     "source": [
      "There are two major modules for doing statistical analyses in Python:\n",
      "\n",
      "* [Scipy](http://docs.scipy.org/doc/scipy/reference/stats.html) - basic statistics and distribution fitting\n",
      "* [Statsmodels](http://statsmodels.sourceforge.net/stable/index.html) - advanced statistical modeling focused on linear models\n",
      "(including ANOVA, multiple regression, generalized linear models, etc.)\n",
      "\n",
      "To see the full functionality of these modules you'll need to look through\n",
      "their pages, but here are a few examples to show you that a lot of the\n",
      "standard statistical tests and models you need to perform can be easily\n",
      "done using Python."
     ]
    },
    {
     "cell_type": "markdown",
     "metadata": {},
     "source": [
      "Imports\n",
      "-------\n",
      "You'll want the `stats` module from Scipy and the `api` and `formula.api`\n",
      "modulesfrom statsmodels. We'll also go ahead and import Numpy for use in\n",
      "generating data and Matplotlib for some graphing."
     ]
    },
    {
     "cell_type": "code",
     "collapsed": false,
     "input": [
      "import scipy.stats as stats\n",
      "import statsmodels.api as sm\n",
      "import statsmodels.formula.api as smf\n",
      "\n",
      "import numpy as np\n",
      "import matplotlib.pyplot as plt\n",
      "import pandas as pd\n",
      "\n",
      "%matplotlib inline"
     ],
     "language": "python",
     "metadata": {},
     "outputs": [],
     "prompt_number": 1
    },
    {
     "cell_type": "heading",
     "level": 2,
     "metadata": {},
     "source": [
      "Descriptive Statistics"
     ]
    },
    {
     "cell_type": "markdown",
     "metadata": {},
     "source": [
      "`stats.describe()` gives basic descriptive statistics on any list of numbers. It returns (in the following order) the size of the data, it's min and max, the mean, the variance, skewness, and kurtosis."
     ]
    },
    {
     "cell_type": "code",
     "collapsed": false,
     "input": [
      "x = [1, 2, 3, 4, 5]\n",
      "stats.describe(x)"
     ],
     "language": "python",
     "metadata": {},
     "outputs": [
      {
       "metadata": {},
       "output_type": "pyout",
       "prompt_number": 2,
       "text": [
        "(5, (1, 5), 3.0, 2.5, 0.0, -1.3)"
       ]
      }
     ],
     "prompt_number": 2
    },
    {
     "cell_type": "markdown",
     "metadata": {},
     "source": [
      "We can also get this kind of information for columns in a DataFrame using the `.describe()` method."
     ]
    },
    {
     "cell_type": "code",
     "collapsed": false,
     "input": [
      "data = pd.DataFrame([[1, 2, 3.5], [2, 2.4, 3.1], [3, 1.8, 2.5]], columns=['a', 'b', 'c'])\n",
      "print data\n",
      "data.describe()"
     ],
     "language": "python",
     "metadata": {},
     "outputs": [
      {
       "output_type": "stream",
       "stream": "stdout",
       "text": [
        "   a    b    c\n",
        "0  1  2.0  3.5\n",
        "1  2  2.4  3.1\n",
        "2  3  1.8  2.5\n",
        "\n",
        "[3 rows x 3 columns]\n"
       ]
      },
      {
       "html": [
        "<div style=\"max-height:1000px;max-width:1500px;overflow:auto;\">\n",
        "<table border=\"1\" class=\"dataframe\">\n",
        "  <thead>\n",
        "    <tr style=\"text-align: right;\">\n",
        "      <th></th>\n",
        "      <th>a</th>\n",
        "      <th>b</th>\n",
        "      <th>c</th>\n",
        "    </tr>\n",
        "  </thead>\n",
        "  <tbody>\n",
        "    <tr>\n",
        "      <th>count</th>\n",
        "      <td> 3.0</td>\n",
        "      <td> 3.000000</td>\n",
        "      <td> 3.000000</td>\n",
        "    </tr>\n",
        "    <tr>\n",
        "      <th>mean</th>\n",
        "      <td> 2.0</td>\n",
        "      <td> 2.066667</td>\n",
        "      <td> 3.033333</td>\n",
        "    </tr>\n",
        "    <tr>\n",
        "      <th>std</th>\n",
        "      <td> 1.0</td>\n",
        "      <td> 0.305505</td>\n",
        "      <td> 0.503322</td>\n",
        "    </tr>\n",
        "    <tr>\n",
        "      <th>min</th>\n",
        "      <td> 1.0</td>\n",
        "      <td> 1.800000</td>\n",
        "      <td> 2.500000</td>\n",
        "    </tr>\n",
        "    <tr>\n",
        "      <th>25%</th>\n",
        "      <td> 1.5</td>\n",
        "      <td> 1.900000</td>\n",
        "      <td> 2.800000</td>\n",
        "    </tr>\n",
        "    <tr>\n",
        "      <th>50%</th>\n",
        "      <td> 2.0</td>\n",
        "      <td> 2.000000</td>\n",
        "      <td> 3.100000</td>\n",
        "    </tr>\n",
        "    <tr>\n",
        "      <th>75%</th>\n",
        "      <td> 2.5</td>\n",
        "      <td> 2.200000</td>\n",
        "      <td> 3.300000</td>\n",
        "    </tr>\n",
        "    <tr>\n",
        "      <th>max</th>\n",
        "      <td> 3.0</td>\n",
        "      <td> 2.400000</td>\n",
        "      <td> 3.500000</td>\n",
        "    </tr>\n",
        "  </tbody>\n",
        "</table>\n",
        "<p>8 rows \u00d7 3 columns</p>\n",
        "</div>"
       ],
       "metadata": {},
       "output_type": "pyout",
       "prompt_number": 3,
       "text": [
        "         a         b         c\n",
        "count  3.0  3.000000  3.000000\n",
        "mean   2.0  2.066667  3.033333\n",
        "std    1.0  0.305505  0.503322\n",
        "min    1.0  1.800000  2.500000\n",
        "25%    1.5  1.900000  2.800000\n",
        "50%    2.0  2.000000  3.100000\n",
        "75%    2.5  2.200000  3.300000\n",
        "max    3.0  2.400000  3.500000\n",
        "\n",
        "[8 rows x 3 columns]"
       ]
      }
     ],
     "prompt_number": 3
    },
    {
     "cell_type": "heading",
     "level": 2,
     "metadata": {},
     "source": [
      "T-tests"
     ]
    },
    {
     "cell_type": "markdown",
     "metadata": {},
     "source": [
      "Standard 1-sample and 2-sample t-tests (as well as many other basic statistical tests) are available in `scipy.stats`.\n",
      "T-tests return two values, the t-statistic and the p-value. First, let's generate some data that is normally distributed around zero."
     ]
    },
    {
     "cell_type": "code",
     "collapsed": false,
     "input": [
      "x1 = np.random.randn(100, 1)\n",
      "x2 = np.random.randn(100, 1)"
     ],
     "language": "python",
     "metadata": {},
     "outputs": [],
     "prompt_number": 4
    },
    {
     "cell_type": "heading",
     "level": 3,
     "metadata": {},
     "source": [
      "One-sample t-test"
     ]
    },
    {
     "cell_type": "markdown",
     "metadata": {},
     "source": [
      "To determine if the mean of `x1` is different from some number use a one-sample t-test.\n",
      "We'll compare the mean of `x1` to both 0 (which it shouldn't be different from) and to 1 (which it should be different from)."
     ]
    },
    {
     "cell_type": "code",
     "collapsed": false,
     "input": [
      "tstat, pval = stats.ttest_1samp(x1, 0)\n",
      "print \"Comparison of the mean of x1 to 0.\\nT-statistic = %s; P-value = %s.\" % (tstat, pval)\n",
      "\n",
      "tstat, pval = stats.ttest_1samp(x1, 1)\n",
      "print \"Comparison of the mean of x1 to 5.\\nT-statistic = %s; P-value = %s.\" % (tstat, pval)"
     ],
     "language": "python",
     "metadata": {},
     "outputs": [
      {
       "output_type": "stream",
       "stream": "stdout",
       "text": [
        "Comparison of the mean of x1 to 0.\n",
        "T-statistic = [-1.05308613]; P-value = [ 0.29486502].\n",
        "Comparison of the mean of x1 to 5.\n",
        "T-statistic = [-12.340786]; P-value = [  9.63527431e-22].\n"
       ]
      }
     ],
     "prompt_number": 5
    },
    {
     "cell_type": "heading",
     "level": 3,
     "metadata": {},
     "source": [
      "Two-sample t-test"
     ]
    },
    {
     "cell_type": "markdown",
     "metadata": {},
     "source": [
      "To determine if the mean of two different sets of numbers are different from one another wuse a two-sample t-test. We'll compare the means of `x1` and `x2`, which should be different from one another since they should both be about zero."
     ]
    },
    {
     "cell_type": "code",
     "collapsed": false,
     "input": [
      "tstat, pval = stats.ttest_ind(x1, x2)\n",
      "print \"Comparison of the means of x1 and x2.\\nT-statistic = %s; P-value = %s.\" % (tstat, pval)"
     ],
     "language": "python",
     "metadata": {},
     "outputs": [
      {
       "output_type": "stream",
       "stream": "stdout",
       "text": [
        "Comparison of the means of x1 and x2.\n",
        "T-statistic = [-1.13009208]; P-value = [ 0.25980455].\n"
       ]
      }
     ],
     "prompt_number": 6
    },
    {
     "cell_type": "heading",
     "level": 2,
     "metadata": {},
     "source": [
      "Distribution fitting and analysis"
     ]
    },
    {
     "cell_type": "markdown",
     "metadata": {},
     "source": [
      "`scipy.stats` also includes a powerful general system for working with statistical distribution.\n",
      "Let's generate some random normally distributed numbers to analyze."
     ]
    },
    {
     "cell_type": "code",
     "collapsed": false,
     "input": [
      "u, sigma = 4, 2\n",
      "random_numbers = stats.norm.rvs(u, sigma, size=50)\n",
      "random_numbers"
     ],
     "language": "python",
     "metadata": {},
     "outputs": [
      {
       "metadata": {},
       "output_type": "pyout",
       "prompt_number": 7,
       "text": [
        "array([ 4.62156637,  2.73409655,  5.78851393,  4.23385081,  1.82625652,\n",
        "        5.98231228,  0.487559  ,  5.75720251,  1.44284675,  3.67222996,\n",
        "        7.26692483,  3.05207237,  3.0668213 ,  4.56876742,  1.87991636,\n",
        "        6.36676381,  2.23274052,  5.94711421,  4.40141195,  3.66584537,\n",
        "        4.74913394,  7.22686856,  2.23047818,  4.64535028,  5.24385237,\n",
        "        2.31838398,  5.64476145,  3.16933691,  1.22541021,  6.20610236,\n",
        "        5.31883791,  5.55421617,  1.61302095,  0.35415231,  5.30431755,\n",
        "        4.01818105,  1.90502438,  3.09603728,  5.70422901,  4.93583278,\n",
        "        1.69519179,  6.66006479,  3.80606874,  3.43945535,  2.41463119,\n",
        "        2.79737306,  1.84994976,  5.99523564,  4.0663896 ,  4.77196219])"
       ]
      }
     ],
     "prompt_number": 7
    },
    {
     "cell_type": "markdown",
     "metadata": {},
     "source": [
      "We can then fit distributions to this data."
     ]
    },
    {
     "cell_type": "code",
     "collapsed": false,
     "input": [
      "stats.norm.fit(random_numbers)"
     ],
     "language": "python",
     "metadata": {},
     "outputs": [
      {
       "metadata": {},
       "output_type": "pyout",
       "prompt_number": 8,
       "text": [
        "(3.9390932515925523, 1.7912319021340946)"
       ]
      }
     ],
     "prompt_number": 8
    },
    {
     "cell_type": "heading",
     "level": 2,
     "metadata": {},
     "source": [
      "Regression"
     ]
    },
    {
     "cell_type": "markdown",
     "metadata": {},
     "source": [
      "You can do simple univariate OLS regression in Scipy,\n",
      "but for anything more complicated you'll need statsmodels,\n",
      "so we'll just do the basics in statsmodels as well.\n",
      "\n",
      "First, we'll generate some data and plot it."
     ]
    },
    {
     "cell_type": "code",
     "collapsed": false,
     "input": [
      "#generate some data\n",
      "x = np.array(range(20))\n",
      "y = 3 + 0.5 * x + 2 * np.random.randn(20)\n",
      "data = pd.DataFrame(zip(x, y), columns=['x', 'y'])\n",
      "\n",
      "#plot the data\n",
      "plt.plot(data['x'], data['y'], 'bo')\n",
      "plt.show()"
     ],
     "language": "python",
     "metadata": {},
     "outputs": [
      {
       "metadata": {},
       "output_type": "display_data",
       "png": "[encoded data removed]",
       "text": [
        "<matplotlib.figure.Figure at 0x7fa15ec91a50>"
       ]
      }
     ],
     "prompt_number": 9
    },
    {
     "cell_type": "markdown",
     "metadata": {},
     "source": [
      "Now let's do a regression. We'll use formulas to specify regression models.\n",
      "This allows us to write our code in simple and intuitive ways,\n",
      "and means the we don't have to remember how to create design matrices for more complicated models.\n",
      "To do this we'll need to be using Pandas to manage the data.\n",
      "The regression function is name `ols` for \"ordinary least-squares\" the standard approach to regression.\n",
      "It takes two arguments. The first is a formula describing the regression we want to fit.\n",
      "In this case we just want to model the effect of `x` on `y` so we use `y ~ x`,\n",
      "where `x` and `y` are the names of columns in a data frame.\n",
      "The second argument is the name of the data frame that contains the columns `x` and `y`."
     ]
    },
    {
     "cell_type": "code",
     "collapsed": false,
     "input": [
      "results = smf.ols('y ~ x', data).fit()\n",
      "print results.summary()"
     ],
     "language": "python",
     "metadata": {},
     "outputs": [
      {
       "output_type": "stream",
       "stream": "stdout",
       "text": [
        "                            OLS Regression Results                            \n",
        "==============================================================================\n",
        "Dep. Variable:                      y   R-squared:                       0.674\n",
        "Model:                            OLS   Adj. R-squared:                  0.656\n",
        "Method:                 Least Squares   F-statistic:                     37.19\n",
        "Date:                Sat, 04 Oct 2014   Prob (F-statistic):           9.22e-06\n",
        "Time:                        11:36:54   Log-Likelihood:                -37.107\n",
        "No. Observations:                  20   AIC:                             78.21\n",
        "Df Residuals:                      18   BIC:                             80.20\n",
        "Df Model:                           1                                         \n",
        "==============================================================================\n",
        "                 coef    std err          t      P>|t|      [95.0% Conf. Int.]\n",
        "------------------------------------------------------------------------------\n",
        "Intercept      4.3951      0.703      6.254      0.000         2.919     5.872\n",
        "x              0.3857      0.063      6.098      0.000         0.253     0.519\n",
        "==============================================================================\n",
        "Omnibus:                        0.011   Durbin-Watson:                   1.675\n",
        "Prob(Omnibus):                  0.995   Jarque-Bera (JB):                0.189\n",
        "Skew:                           0.042   Prob(JB):                        0.910\n",
        "Kurtosis:                       2.531   Cond. No.                         21.5\n",
        "==============================================================================\n"
       ]
      }
     ],
     "prompt_number": 10
    },
    {
     "cell_type": "markdown",
     "metadata": {},
     "source": [
      "So, ``.summary()`` presents us with most of the information we would want about the regression.\n",
      "We can also pull this information out in individual pieces. For example,"
     ]
    },
    {
     "cell_type": "code",
     "collapsed": false,
     "input": [
      "intercept, slope = results.params\n",
      "r2 = results.rsquared\n",
      "print slope, intercept, r2"
     ],
     "language": "python",
     "metadata": {},
     "outputs": [
      {
       "output_type": "stream",
       "stream": "stdout",
       "text": [
        "0.385650183898 4.39509973963 0.673841857541\n"
       ]
      }
     ],
     "prompt_number": 11
    },
    {
     "cell_type": "markdown",
     "metadata": {},
     "source": [
      "This makes it easy to store the key results of large numbers of analyses, or present\n",
      "the results in alternative ways, like graphs."
     ]
    },
    {
     "cell_type": "code",
     "collapsed": false,
     "input": [
      "plt.plot(data['x'], data['y'], 'bo')\n",
      "plt.hold(True)\n",
      "x = np.array([min(x), max(x)])\n",
      "y = intercept + slope * x\n",
      "plt.plot(x, y, 'r-')\n",
      "plt.show()"
     ],
     "language": "python",
     "metadata": {},
     "outputs": [
      {
       "metadata": {},
       "output_type": "display_data",
       "png": "[encoded data removed]",
       "text": [
        "<matplotlib.figure.Figure at 0x7fa15ebb5cd0>"
       ]
      }
     ],
     "prompt_number": 12
    },
    {
     "cell_type": "markdown",
     "metadata": {},
     "source": [
      "You'll notice that in order to plot the regression line what we actually do is\n",
      "plot a line with the appropriate slope and intercept by:\n",
      "\n",
      "1. taking the minimum and maximum values of x\n",
      "2. calculating their values of y based on the regression results\n",
      "3. and plotting those two points with a straight line connecting them and no symbols"
     ]
    },
    {
     "cell_type": "heading",
     "level": 3,
     "metadata": {},
     "source": [
      "Multiple-regression"
     ]
    },
    {
     "cell_type": "markdown",
     "metadata": {},
     "source": [
      "Multiple-regression works the same way, but with additional terms in the formula."
     ]
    },
    {
     "cell_type": "code",
     "collapsed": false,
     "input": [
      "import pandas as pd\n",
      "\n",
      "#generate some data\n",
      "x = np.random.randn(50)\n",
      "z = np.random.randn(50)\n",
      "noise = np.random.randn(50)\n",
      "y = 3 + 0.5 * x + 1.5 * z + noise\n",
      "\n",
      "data = pd.DataFrame(zip(x, y, z), columns=['x', 'y', 'z'])\n",
      "results = smf.ols('y ~ x + z', data).fit()\n",
      "print results.summary()"
     ],
     "language": "python",
     "metadata": {},
     "outputs": [
      {
       "output_type": "stream",
       "stream": "stdout",
       "text": [
        "                            OLS Regression Results                            \n",
        "==============================================================================\n",
        "Dep. Variable:                      y   R-squared:                       0.836\n",
        "Model:                            OLS   Adj. R-squared:                  0.829\n",
        "Method:                 Least Squares   F-statistic:                     120.2\n",
        "Date:                Sat, 04 Oct 2014   Prob (F-statistic):           3.32e-19\n",
        "Time:                        11:36:54   Log-Likelihood:                -64.407\n",
        "No. Observations:                  50   AIC:                             134.8\n",
        "Df Residuals:                      47   BIC:                             140.5\n",
        "Df Model:                           2                                         \n",
        "==============================================================================\n",
        "                 coef    std err          t      P>|t|      [95.0% Conf. Int.]\n",
        "------------------------------------------------------------------------------\n",
        "Intercept      3.0007      0.135     22.153      0.000         2.728     3.273\n",
        "x              0.5182      0.151      3.432      0.001         0.214     0.822\n",
        "z              1.7982      0.121     14.850      0.000         1.555     2.042\n",
        "==============================================================================\n",
        "Omnibus:                        2.783   Durbin-Watson:                   2.211\n",
        "Prob(Omnibus):                  0.249   Jarque-Bera (JB):                2.219\n",
        "Skew:                           0.516   Prob(JB):                        0.330\n",
        "Kurtosis:                       3.046   Cond. No.                         1.50\n",
        "==============================================================================\n"
       ]
      }
     ],
     "prompt_number": 13
    },
    {
     "cell_type": "markdown",
     "metadata": {},
     "source": [
      "This makes it easy to do more complicated designs, including interactions."
     ]
    },
    {
     "cell_type": "code",
     "collapsed": false,
     "input": [
      "results = smf.ols('y ~ x + z + x*z', data).fit()\n",
      "print results.summary()"
     ],
     "language": "python",
     "metadata": {},
     "outputs": [
      {
       "output_type": "stream",
       "stream": "stdout",
       "text": [
        "                            OLS Regression Results                            \n",
        "==============================================================================\n",
        "Dep. Variable:                      y   R-squared:                       0.841\n",
        "Model:                            OLS   Adj. R-squared:                  0.831\n",
        "Method:                 Least Squares   F-statistic:                     81.13\n",
        "Date:                Sat, 04 Oct 2014   Prob (F-statistic):           2.15e-18\n",
        "Time:                        11:36:54   Log-Likelihood:                -63.691\n",
        "No. Observations:                  50   AIC:                             135.4\n",
        "Df Residuals:                      46   BIC:                             143.0\n",
        "Df Model:                           3                                         \n",
        "==============================================================================\n",
        "                 coef    std err          t      P>|t|      [95.0% Conf. Int.]\n",
        "------------------------------------------------------------------------------\n",
        "Intercept      3.0008      0.135     22.232      0.000         2.729     3.272\n",
        "x              0.5124      0.151      3.404      0.001         0.209     0.815\n",
        "z              1.7849      0.121     14.726      0.000         1.541     2.029\n",
        "x:z            0.1387      0.120      1.156      0.254        -0.103     0.380\n",
        "==============================================================================\n",
        "Omnibus:                        3.142   Durbin-Watson:                   2.311\n",
        "Prob(Omnibus):                  0.208   Jarque-Bera (JB):                2.496\n",
        "Skew:                           0.545   Prob(JB):                        0.287\n",
        "Kurtosis:                       3.095   Cond. No.                         1.51\n",
        "==============================================================================\n"
       ]
      }
     ],
     "prompt_number": 14
    },
    {
     "cell_type": "markdown",
     "metadata": {},
     "source": [
      "### ANOVA\n",
      "Using formulas also makes it easy to conduct statistical tests that are based on linear models.\n",
      "ANOVA is simply a linear model with appropriate dummy variables set up for each factor.\n",
      "To do this in statsmodels we simply use ``C()`` to tell the module that the\n",
      "variable of interest is categorical.\n",
      "\n",
      "This time, let's start by grabbing some data from the web."
     ]
    },
    {
     "cell_type": "code",
     "collapsed": false,
     "input": [
      "url = 'http://stats191.stanford.edu/data/rehab.csv'\n",
      "rehab_table = pd.read_table(url, delimiter=\",\")\n",
      "rehab_table"
     ],
     "language": "python",
     "metadata": {},
     "outputs": [
      {
       "html": [
        "<div style=\"max-height:1000px;max-width:1500px;overflow:auto;\">\n",
        "<table border=\"1\" class=\"dataframe\">\n",
        "  <thead>\n",
        "    <tr style=\"text-align: right;\">\n",
        "      <th></th>\n",
        "      <th>Fitness</th>\n",
        "      <th>Time</th>\n",
        "    </tr>\n",
        "  </thead>\n",
        "  <tbody>\n",
        "    <tr>\n",
        "      <th>0 </th>\n",
        "      <td> 1</td>\n",
        "      <td> 29</td>\n",
        "    </tr>\n",
        "    <tr>\n",
        "      <th>1 </th>\n",
        "      <td> 1</td>\n",
        "      <td> 42</td>\n",
        "    </tr>\n",
        "    <tr>\n",
        "      <th>2 </th>\n",
        "      <td> 1</td>\n",
        "      <td> 38</td>\n",
        "    </tr>\n",
        "    <tr>\n",
        "      <th>3 </th>\n",
        "      <td> 1</td>\n",
        "      <td> 40</td>\n",
        "    </tr>\n",
        "    <tr>\n",
        "      <th>4 </th>\n",
        "      <td> 1</td>\n",
        "      <td> 43</td>\n",
        "    </tr>\n",
        "    <tr>\n",
        "      <th>5 </th>\n",
        "      <td> 1</td>\n",
        "      <td> 40</td>\n",
        "    </tr>\n",
        "    <tr>\n",
        "      <th>6 </th>\n",
        "      <td> 1</td>\n",
        "      <td> 30</td>\n",
        "    </tr>\n",
        "    <tr>\n",
        "      <th>7 </th>\n",
        "      <td> 1</td>\n",
        "      <td> 42</td>\n",
        "    </tr>\n",
        "    <tr>\n",
        "      <th>8 </th>\n",
        "      <td> 2</td>\n",
        "      <td> 30</td>\n",
        "    </tr>\n",
        "    <tr>\n",
        "      <th>9 </th>\n",
        "      <td> 2</td>\n",
        "      <td> 35</td>\n",
        "    </tr>\n",
        "    <tr>\n",
        "      <th>10</th>\n",
        "      <td> 2</td>\n",
        "      <td> 39</td>\n",
        "    </tr>\n",
        "    <tr>\n",
        "      <th>11</th>\n",
        "      <td> 2</td>\n",
        "      <td> 28</td>\n",
        "    </tr>\n",
        "    <tr>\n",
        "      <th>12</th>\n",
        "      <td> 2</td>\n",
        "      <td> 31</td>\n",
        "    </tr>\n",
        "    <tr>\n",
        "      <th>13</th>\n",
        "      <td> 2</td>\n",
        "      <td> 31</td>\n",
        "    </tr>\n",
        "    <tr>\n",
        "      <th>14</th>\n",
        "      <td> 2</td>\n",
        "      <td> 29</td>\n",
        "    </tr>\n",
        "    <tr>\n",
        "      <th>15</th>\n",
        "      <td> 2</td>\n",
        "      <td> 35</td>\n",
        "    </tr>\n",
        "    <tr>\n",
        "      <th>16</th>\n",
        "      <td> 2</td>\n",
        "      <td> 29</td>\n",
        "    </tr>\n",
        "    <tr>\n",
        "      <th>17</th>\n",
        "      <td> 2</td>\n",
        "      <td> 33</td>\n",
        "    </tr>\n",
        "    <tr>\n",
        "      <th>18</th>\n",
        "      <td> 3</td>\n",
        "      <td> 26</td>\n",
        "    </tr>\n",
        "    <tr>\n",
        "      <th>19</th>\n",
        "      <td> 3</td>\n",
        "      <td> 32</td>\n",
        "    </tr>\n",
        "    <tr>\n",
        "      <th>20</th>\n",
        "      <td> 3</td>\n",
        "      <td> 21</td>\n",
        "    </tr>\n",
        "    <tr>\n",
        "      <th>21</th>\n",
        "      <td> 3</td>\n",
        "      <td> 20</td>\n",
        "    </tr>\n",
        "    <tr>\n",
        "      <th>22</th>\n",
        "      <td> 3</td>\n",
        "      <td> 23</td>\n",
        "    </tr>\n",
        "    <tr>\n",
        "      <th>23</th>\n",
        "      <td> 3</td>\n",
        "      <td> 22</td>\n",
        "    </tr>\n",
        "  </tbody>\n",
        "</table>\n",
        "<p>24 rows \u00d7 2 columns</p>\n",
        "</div>"
       ],
       "metadata": {},
       "output_type": "pyout",
       "prompt_number": 15,
       "text": [
        "    Fitness  Time\n",
        "0         1    29\n",
        "1         1    42\n",
        "2         1    38\n",
        "3         1    40\n",
        "4         1    43\n",
        "5         1    40\n",
        "6         1    30\n",
        "7         1    42\n",
        "8         2    30\n",
        "9         2    35\n",
        "10        2    39\n",
        "11        2    28\n",
        "12        2    31\n",
        "13        2    31\n",
        "14        2    29\n",
        "15        2    35\n",
        "16        2    29\n",
        "17        2    33\n",
        "18        3    26\n",
        "19        3    32\n",
        "20        3    21\n",
        "21        3    20\n",
        "22        3    23\n",
        "23        3    22\n",
        "\n",
        "[24 rows x 2 columns]"
       ]
      }
     ],
     "prompt_number": 15
    },
    {
     "cell_type": "markdown",
     "metadata": {},
     "source": [
      "To see if the time to rehabilitate an injury is related to the fitness category we do the same as above,\n",
      "but wrapping the predictor in ``C()``."
     ]
    },
    {
     "cell_type": "code",
     "collapsed": false,
     "input": [
      "results = smf.ols('Time ~ C(Fitness)', rehab_table).fit()\n",
      "print results.summary()"
     ],
     "language": "python",
     "metadata": {},
     "outputs": [
      {
       "output_type": "stream",
       "stream": "stdout",
       "text": [
        "                            OLS Regression Results                            \n",
        "==============================================================================\n",
        "Dep. Variable:                   Time   R-squared:                       0.618\n",
        "Model:                            OLS   Adj. R-squared:                  0.581\n",
        "Method:                 Least Squares   F-statistic:                     16.96\n",
        "Date:                Sat, 04 Oct 2014   Prob (F-statistic):           4.13e-05\n",
        "Time:                        11:36:54   Log-Likelihood:                -68.286\n",
        "No. Observations:                  24   AIC:                             142.6\n",
        "Df Residuals:                      21   BIC:                             146.1\n",
        "Df Model:                           2                                         \n",
        "===================================================================================\n",
        "                      coef    std err          t      P>|t|      [95.0% Conf. Int.]\n",
        "-----------------------------------------------------------------------------------\n",
        "Intercept          38.0000      1.574     24.149      0.000        34.728    41.272\n",
        "C(Fitness)[T.2]    -6.0000      2.111     -2.842      0.010       -10.390    -1.610\n",
        "C(Fitness)[T.3]   -14.0000      2.404     -5.824      0.000       -18.999    -9.001\n",
        "==============================================================================\n",
        "Omnibus:                        0.163   Durbin-Watson:                   2.209\n",
        "Prob(Omnibus):                  0.922   Jarque-Bera (JB):                0.211\n",
        "Skew:                          -0.163   Prob(JB):                        0.900\n",
        "Kurtosis:                       2.675   Cond. No.                         3.80\n",
        "==============================================================================\n"
       ]
      }
     ],
     "prompt_number": 16
    },
    {
     "cell_type": "markdown",
     "metadata": {},
     "source": [
      "While all of the information that we want is technically present in this table,\n",
      "we typically want it presented in more standard fashion for ANOVA.\n",
      "We can do this using the ``anova_lm`` function."
     ]
    },
    {
     "cell_type": "code",
     "collapsed": false,
     "input": [
      "from statsmodels.stats.anova import anova_lm\n",
      "\n",
      "anova_lm(results)"
     ],
     "language": "python",
     "metadata": {},
     "outputs": [
      {
       "html": [
        "<div style=\"max-height:1000px;max-width:1500px;overflow:auto;\">\n",
        "<table border=\"1\" class=\"dataframe\">\n",
        "  <thead>\n",
        "    <tr style=\"text-align: right;\">\n",
        "      <th></th>\n",
        "      <th>df</th>\n",
        "      <th>sum_sq</th>\n",
        "      <th>mean_sq</th>\n",
        "      <th>F</th>\n",
        "      <th>PR(&gt;F)</th>\n",
        "    </tr>\n",
        "  </thead>\n",
        "  <tbody>\n",
        "    <tr>\n",
        "      <th>C(Fitness)</th>\n",
        "      <td>  2</td>\n",
        "      <td> 672</td>\n",
        "      <td> 336.000000</td>\n",
        "      <td> 16.961538</td>\n",
        "      <td> 0.000041</td>\n",
        "    </tr>\n",
        "    <tr>\n",
        "      <th>Residual</th>\n",
        "      <td> 21</td>\n",
        "      <td> 416</td>\n",
        "      <td>  19.809524</td>\n",
        "      <td>       NaN</td>\n",
        "      <td>      NaN</td>\n",
        "    </tr>\n",
        "  </tbody>\n",
        "</table>\n",
        "<p>2 rows \u00d7 5 columns</p>\n",
        "</div>"
       ],
       "metadata": {},
       "output_type": "pyout",
       "prompt_number": 17,
       "text": [
        "            df  sum_sq     mean_sq          F    PR(>F)\n",
        "C(Fitness)   2     672  336.000000  16.961538  0.000041\n",
        "Residual    21     416   19.809524        NaN       NaN\n",
        "\n",
        "[2 rows x 5 columns]"
       ]
      }
     ],
     "prompt_number": 17
    },
    {
     "cell_type": "markdown",
     "metadata": {},
     "source": [
      "### And lots more\n",
      "\n",
      "Statsmodels includes much more advanced functionality including:\n",
      "\n",
      "* Generalized Least Squares (i.e., correlated error structures such as for spatial and comparative analysis)\n",
      "* Generalized Linear Models (i.e., non-normal error)\n",
      "* Robust Linear Models\n",
      "* Regression with Discrete Dependent Variable (e.g., logistic regression)\n",
      "* Time Series analysis"
     ]
    }
   ],
   "metadata": {}
  }
 ]
}