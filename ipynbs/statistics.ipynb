{
 "metadata": {
  "name": "statistics"
 },
 "nbformat": 3,
 "nbformat_minor": 0,
 "worksheets": [
  {
   "cells": [
    {
     "cell_type": "markdown",
     "metadata": {},
     "source": [
      "Statistics in Python\n",
      "====================\n",
      "\n",
      "There are two major modules for doing statistical analyses in Python:\n",
      "\n",
      "* [Scipy](http://docs.scipy.org/doc/scipy/reference/stats.html) - basic statistics and distribution fitting\n",
      "* [Statsmodels](http://statsmodels.sourceforge.net/stable/index.html) - advanced statistical modeling focused on linear models\n",
      "(including ANOVA, multiple regression, generalized linear models, etc.)\n",
      "\n",
      "To see the full functionality of these modules you'll need to look through\n",
      "their pages, but here are a few examples to show you that a lot of the\n",
      "standard statistical tests and models you need to perform can be easily\n",
      "done inside of Python."
     ]
    },
    {
     "cell_type": "markdown",
     "metadata": {},
     "source": [
      "Imports\n",
      "-------\n",
      "You'll want the ``stats`` module from Scipy and the ``api`` from statsmodels.\n",
      "We'll also go ahead and import Numpy for use in generating data and Matplotlib\n",
      "for some graphing."
     ]
    },
    {
     "cell_type": "code",
     "collapsed": false,
     "input": [
      "import scipy.stats as stats\n",
      "import statsmodels.api as sm\n",
      "\n",
      "import numpy as np\n",
      "import matplotlib.pyplot as plt"
     ],
     "language": "python",
     "metadata": {},
     "outputs": [],
     "prompt_number": 1
    },
    {
     "cell_type": "markdown",
     "metadata": {},
     "source": [
      "Scipy\n",
      "-----\n",
      "### Descriptive Statistics"
     ]
    },
    {
     "cell_type": "code",
     "collapsed": false,
     "input": [
      "x = [1, 2, 3, 4, 5]\n",
      "stats.describe(x)"
     ],
     "language": "python",
     "metadata": {},
     "outputs": [
      {
       "output_type": "pyout",
       "prompt_number": 2,
       "text": [
        "(5, (1, 5), 3.0, 2.5, 0.0, -1.3)"
       ]
      }
     ],
     "prompt_number": 2
    },
    {
     "cell_type": "markdown",
     "metadata": {},
     "source": [
      "### T-tests\n",
      "Standard 1-sample and 2-sample t-tests (as well as most basic statistical tests) are available.\n",
      "T-tests return two values, the t-statistic and the p-value."
     ]
    },
    {
     "cell_type": "code",
     "collapsed": false,
     "input": [
      "x1 = np.random.randn(100, 1)\n",
      "x2 = np.random.randn(100, 1)\n",
      "tstat, pval = stats.ttest_ind(x1, x2)\n",
      "print \"T-statistic = %s; P-value = %s.\" % (tstat, pval)"
     ],
     "language": "python",
     "metadata": {},
     "outputs": [
      {
       "output_type": "stream",
       "stream": "stdout",
       "text": [
        "T-statistic = [ 1.05573076]; P-value = [ 0.2923777].\n"
       ]
      }
     ],
     "prompt_number": 3
    },
    {
     "cell_type": "markdown",
     "metadata": {},
     "source": [
      "### Distribution fitting and analyisis\n",
      "Scipy also includes a power general system for working with statistical distribution."
     ]
    },
    {
     "cell_type": "markdown",
     "metadata": {},
     "source": [
      "#### Generate random numbers"
     ]
    },
    {
     "cell_type": "code",
     "collapsed": false,
     "input": [
      "u, sigma = 4, 2\n",
      "random_numbers = stats.norm.rvs(u, sigma, size=50)\n",
      "random_numbers"
     ],
     "language": "python",
     "metadata": {},
     "outputs": [
      {
       "output_type": "pyout",
       "prompt_number": 4,
       "text": [
        "array([ 1.01964355,  8.58843331,  2.58575194,  7.41659191,  3.1589313 ,\n",
        "        4.18218087,  5.18989668,  7.67350548,  3.53409262,  3.02297931,\n",
        "        2.51087203,  3.00523087,  5.80099631,  2.99404756,  5.01785989,\n",
        "        3.32684194,  2.62758428,  3.41509516,  4.37609248,  2.84603131,\n",
        "        2.13808252,  4.73108122,  3.1131272 ,  3.07551035,  0.83822151,\n",
        "        6.18094523,  3.56073176,  3.5302821 ,  2.04508597,  1.55909278,\n",
        "        4.01624742,  2.58076696,  0.87801637,  2.09517702,  3.95249792,\n",
        "        5.6730691 ,  5.55282237,  5.67605837,  2.31427172,  6.05281357,\n",
        "        1.6903125 ,  5.23201521,  2.16004757,  3.49264679,  3.26806695,\n",
        "        5.48800919,  3.3979121 ,  4.83157503,  5.63350183,  4.59155964])"
       ]
      }
     ],
     "prompt_number": 4
    },
    {
     "cell_type": "markdown",
     "metadata": {},
     "source": [
      "#### Fit the parameters of a distribution to some data"
     ]
    },
    {
     "cell_type": "code",
     "collapsed": false,
     "input": [
      "stats.norm.fit(random_numbers)"
     ],
     "language": "python",
     "metadata": {},
     "outputs": [
      {
       "output_type": "pyout",
       "prompt_number": 5,
       "text": [
        "(3.8328441410005927, 1.7323940819031634)"
       ]
      }
     ],
     "prompt_number": 5
    },
    {
     "cell_type": "markdown",
     "metadata": {},
     "source": [
      "#### PDFs and CDFs"
     ]
    },
    {
     "cell_type": "code",
     "collapsed": false,
     "input": [
      "x = np.arange(-10, 10, 0.1)\n",
      "normpdf = stats.norm.pdf(x, u, sigma)\n",
      "normcdf = stats.norm.cdf(x, u, sigma)\n",
      "plt.plot(x, normpdf, 'b-')\n",
      "plt.plot(x, normcdf, 'r-')"
     ],
     "language": "python",
     "metadata": {},
     "outputs": [
      {
       "output_type": "pyout",
       "prompt_number": 6,
       "text": [
        "[<matplotlib.lines.Line2D at 0x3d0f950>]"
       ]
      },
      {
       "output_type": "display_data",
       "png": "[encoded data removed]"
      }
     ],
     "prompt_number": 6
    },
    {
     "cell_type": "markdown",
     "metadata": {},
     "source": [
      "Statsmodels\n",
      "-----------\n",
      "\n",
      "### Basic Regression\n",
      "\n",
      "You can do simple univariate OLS regression in Scipy,\n",
      "but for anything more complicated you'll need statsmodels,\n",
      "so we'll just do the basics in statsmodels as well.\n",
      "\n",
      "First, we'll generate some data and plot it."
     ]
    },
    {
     "cell_type": "code",
     "collapsed": false,
     "input": [
      "#generate some data\n",
      "x = np.array(range(20))\n",
      "y = 3 + 0.5 * x + 2 * np.random.randn(20)\n",
      "\n",
      "#plot the data\n",
      "plt.plot(x, y, 'bo')\n",
      "plt.show()"
     ],
     "language": "python",
     "metadata": {},
     "outputs": [
      {
       "output_type": "display_data",
       "png": "[encoded data removed]"
      }
     ],
     "prompt_number": 7
    },
    {
     "cell_type": "markdown",
     "metadata": {},
     "source": [
      "Now let's do a regression."
     ]
    },
    {
     "cell_type": "code",
     "collapsed": false,
     "input": [
      "X = sm.add_constant(x, prepend=True) #Add a column of ones to allow the calculation of the intercept\n",
      "results = sm.OLS(y, X).fit()\n",
      "print results.summary()"
     ],
     "language": "python",
     "metadata": {},
     "outputs": [
      {
       "output_type": "stream",
       "stream": "stdout",
       "text": [
        "                            OLS Regression Results                            \n",
        "==============================================================================\n",
        "Dep. Variable:                      y   R-squared:                       0.735\n",
        "Model:                            OLS   Adj. R-squared:                  0.720\n",
        "Method:                 Least Squares   F-statistic:                     49.87\n",
        "Date:                Sun, 18 Nov 2012   Prob (F-statistic):           1.38e-06\n",
        "Time:                        12:23:35   Log-Likelihood:                -37.787\n",
        "No. Observations:                  20   AIC:                             79.57\n",
        "Df Residuals:                      18   BIC:                             81.56\n",
        "Df Model:                           1                                         \n",
        "==============================================================================\n",
        "                 coef    std err          t      P>|t|      [95.0% Conf. Int.]\n",
        "------------------------------------------------------------------------------\n",
        "const          3.7254      0.727      5.124      0.000         2.198     5.253\n",
        "x1             0.4620      0.065      7.062      0.000         0.325     0.599\n",
        "==============================================================================\n",
        "Omnibus:                        2.699   Durbin-Watson:                   2.015\n",
        "Prob(Omnibus):                  0.259   Jarque-Bera (JB):                2.213\n",
        "Skew:                           0.729   Prob(JB):                        0.331\n",
        "Kurtosis:                       2.270   Cond. No.                         21.5\n",
        "==============================================================================\n"
       ]
      }
     ],
     "prompt_number": 8
    },
    {
     "cell_type": "markdown",
     "metadata": {},
     "source": [
      "So, ``.summary()`` presents us with most of the information we would want about the regression.\n",
      "We can also pull this information out in individual pieces. For example,"
     ]
    },
    {
     "cell_type": "code",
     "collapsed": false,
     "input": [
      "intercept, slope = results.params\n",
      "r2 = results.rsquared\n",
      "print slope, intercept, r2"
     ],
     "language": "python",
     "metadata": {},
     "outputs": [
      {
       "output_type": "stream",
       "stream": "stdout",
       "text": [
        "0.462017609571 3.72542521821 0.734768347352\n"
       ]
      }
     ],
     "prompt_number": 9
    },
    {
     "cell_type": "markdown",
     "metadata": {},
     "source": [
      "This makes it easy to store the key results of large numbers of analyses, or present\n",
      "the results in alternative ways, like graphs."
     ]
    },
    {
     "cell_type": "code",
     "collapsed": false,
     "input": [
      "plt.plot(x, y, 'bo')\n",
      "plt.hold(True)\n",
      "x = np.array([min(x), max(x)])\n",
      "y = intercept + slope * x\n",
      "plt.plot(x, y, 'r-')\n",
      "plt.show()"
     ],
     "language": "python",
     "metadata": {},
     "outputs": [
      {
       "output_type": "display_data",
       "png": "[encoded data removed]"
      }
     ],
     "prompt_number": 10
    },
    {
     "cell_type": "markdown",
     "metadata": {},
     "source": [
      "You'll notice that in order to plot the regression line what we actually do is\n",
      "plot a line with the appropriate slope and intercept by:\n",
      "\n",
      "1. taking the minimum and maximum values of x\n",
      "2. calculating their values of y based on the regression results\n",
      "3. and plotting those two points with a straight line connecting them and no symbols"
     ]
    },
    {
     "cell_type": "markdown",
     "metadata": {},
     "source": [
      "### Multiple Regression\n",
      "\n",
      "Multiple regression is basically the same as when we only have a single predictor, except that we add extra columns to X."
     ]
    },
    {
     "cell_type": "code",
     "collapsed": false,
     "input": [
      "#generate some data\n",
      "x = np.random.randn(50)\n",
      "z = np.random.randn(50)\n",
      "noise = np.random.randn(50)\n",
      "y = 3 + 0.5 * x + 1.5 * z + noise\n",
      "X = sm.add_constant(zip(x, z), prepend=True) #Add a column of ones to allow the calculation of the intercept\n",
      "\n",
      "#fit the model\n",
      "results = sm.OLS(y, X).fit()\n",
      "print results.summary()"
     ],
     "language": "python",
     "metadata": {},
     "outputs": [
      {
       "output_type": "stream",
       "stream": "stdout",
       "text": [
        "                            OLS Regression Results                            \n",
        "==============================================================================\n",
        "Dep. Variable:                      y   R-squared:                       0.747\n",
        "Model:                            OLS   Adj. R-squared:                  0.736\n",
        "Method:                 Least Squares   F-statistic:                     69.23\n",
        "Date:                Sun, 18 Nov 2012   Prob (F-statistic):           9.77e-15\n",
        "Time:                        12:23:47   Log-Likelihood:                -68.246\n",
        "No. Observations:                  50   AIC:                             142.5\n",
        "Df Residuals:                      47   BIC:                             148.2\n",
        "Df Model:                           2                                         \n",
        "==============================================================================\n",
        "                 coef    std err          t      P>|t|      [95.0% Conf. Int.]\n",
        "------------------------------------------------------------------------------\n",
        "const          3.1958      0.145     22.023      0.000         2.904     3.488\n",
        "x1             0.6546      0.153      4.279      0.000         0.347     0.962\n",
        "x2             1.4294      0.129     11.043      0.000         1.169     1.690\n",
        "==============================================================================\n",
        "Omnibus:                        1.118   Durbin-Watson:                   1.758\n",
        "Prob(Omnibus):                  0.572   Jarque-Bera (JB):                0.926\n",
        "Skew:                           0.328   Prob(JB):                        0.629\n",
        "Kurtosis:                       2.877   Cond. No.                         1.38\n",
        "==============================================================================\n"
       ]
      }
     ],
     "prompt_number": 11
    },
    {
     "cell_type": "markdown",
     "metadata": {},
     "source": [
      "### Regression using formulas (requires statsmodelss 0.5+)\n",
      "\n",
      "We can also use formulas to specify regression models.\n",
      "This allows us to write our code in simple and intuitive ways,\n",
      "and means the we don't have to remember how to right design matrices for more complicated models.\n",
      "To do this we'll need to use Pandas to manage the data."
     ]
    },
    {
     "cell_type": "code",
     "collapsed": false,
     "input": [
      "import pandas as pd\n",
      "\n",
      "data = pd.DataFrame(zip(x, y, z), columns=['x', 'y', 'z'])\n",
      "results = sm.OLS.from_formula('y ~ x + z', data).fit()\n",
      "print results.summary()"
     ],
     "language": "python",
     "metadata": {},
     "outputs": [
      {
       "output_type": "stream",
       "stream": "stdout",
       "text": [
        "                            OLS Regression Results                            \n",
        "==============================================================================\n",
        "Dep. Variable:                      y   R-squared:                       0.747\n",
        "Model:                            OLS   Adj. R-squared:                  0.736\n",
        "Method:                 Least Squares   F-statistic:                     69.23\n",
        "Date:                Sun, 18 Nov 2012   Prob (F-statistic):           9.77e-15\n",
        "Time:                        12:23:53   Log-Likelihood:                -68.246\n",
        "No. Observations:                  50   AIC:                             142.5\n",
        "Df Residuals:                      47   BIC:                             148.2\n",
        "Df Model:                           2                                         \n",
        "==============================================================================\n",
        "                 coef    std err          t      P>|t|      [95.0% Conf. Int.]\n",
        "------------------------------------------------------------------------------\n",
        "Intercept      3.1958      0.145     22.023      0.000         2.904     3.488\n",
        "x              0.6546      0.153      4.279      0.000         0.347     0.962\n",
        "z              1.4294      0.129     11.043      0.000         1.169     1.690\n",
        "==============================================================================\n",
        "Omnibus:                        1.118   Durbin-Watson:                   1.758\n",
        "Prob(Omnibus):                  0.572   Jarque-Bera (JB):                0.926\n",
        "Skew:                           0.328   Prob(JB):                        0.629\n",
        "Kurtosis:                       2.877   Cond. No.                         1.38\n",
        "==============================================================================\n"
       ]
      }
     ],
     "prompt_number": 12
    },
    {
     "cell_type": "markdown",
     "metadata": {},
     "source": [
      "This makes it easy to do more complicated designs, including interactions."
     ]
    },
    {
     "cell_type": "code",
     "collapsed": false,
     "input": [
      "results = sm.OLS.from_formula('y ~ x + z + x*z', data).fit()\n",
      "print results.summary()"
     ],
     "language": "python",
     "metadata": {},
     "outputs": [
      {
       "output_type": "stream",
       "stream": "stdout",
       "text": [
        "                            OLS Regression Results                            \n",
        "==============================================================================\n",
        "Dep. Variable:                      y   R-squared:                       0.754\n",
        "Model:                            OLS   Adj. R-squared:                  0.737\n",
        "Method:                 Least Squares   F-statistic:                     46.88\n",
        "Date:                Sun, 18 Nov 2012   Prob (F-statistic):           4.92e-14\n",
        "Time:                        12:23:55   Log-Likelihood:                -67.551\n",
        "No. Observations:                  50   AIC:                             143.1\n",
        "Df Residuals:                      46   BIC:                             150.7\n",
        "Df Model:                           3                                         \n",
        "==============================================================================\n",
        "                 coef    std err          t      P>|t|      [95.0% Conf. Int.]\n",
        "------------------------------------------------------------------------------\n",
        "Intercept      3.1780      0.145     21.842      0.000         2.885     3.471\n",
        "x              0.5798      0.166      3.491      0.001         0.245     0.914\n",
        "z              1.4848      0.138     10.767      0.000         1.207     1.762\n",
        "x:z            0.1783      0.157      1.139      0.261        -0.137     0.493\n",
        "==============================================================================\n",
        "Omnibus:                        1.207   Durbin-Watson:                   1.754\n",
        "Prob(Omnibus):                  0.547   Jarque-Bera (JB):                1.239\n",
        "Skew:                           0.314   Prob(JB):                        0.538\n",
        "Kurtosis:                       2.552   Cond. No.                         1.85\n",
        "==============================================================================\n"
       ]
      }
     ],
     "prompt_number": 13
    },
    {
     "cell_type": "markdown",
     "metadata": {},
     "source": [
      "### ANOVA\n",
      "Using formulas also makes it easy to conduct statistical tests that based on linear models.\n",
      "ANOVA is simply a linear model with appropriate dummy variables set up for each factor.\n",
      "To do this in statsmodels we simply use ``C()`` to tell the module that the\n",
      "variable of interest is categorical.\n",
      "\n",
      "This time, let's start by grabbing some data from the web."
     ]
    },
    {
     "cell_type": "code",
     "collapsed": false,
     "input": [
      "url = 'http://stats191.stanford.edu/data/rehab.csv'\n",
      "rehab_table = pd.read_table(url, delimiter=\",\")\n",
      "rehab_table"
     ],
     "language": "python",
     "metadata": {},
     "outputs": [
      {
       "html": [
        "<div style=\"max-height:1000px;max-width:1500px;overflow:auto;\">\n",
        "<table border=\"1\" class=\"dataframe\">\n",
        "  <thead>\n",
        "    <tr style=\"text-align: right;\">\n",
        "      <th></th>\n",
        "      <th>Fitness</th>\n",
        "      <th>Time</th>\n",
        "    </tr>\n",
        "  </thead>\n",
        "  <tbody>\n",
        "    <tr>\n",
        "      <td><strong>0 </strong></td>\n",
        "      <td> 1</td>\n",
        "      <td> 29</td>\n",
        "    </tr>\n",
        "    <tr>\n",
        "      <td><strong>1 </strong></td>\n",
        "      <td> 1</td>\n",
        "      <td> 42</td>\n",
        "    </tr>\n",
        "    <tr>\n",
        "      <td><strong>2 </strong></td>\n",
        "      <td> 1</td>\n",
        "      <td> 38</td>\n",
        "    </tr>\n",
        "    <tr>\n",
        "      <td><strong>3 </strong></td>\n",
        "      <td> 1</td>\n",
        "      <td> 40</td>\n",
        "    </tr>\n",
        "    <tr>\n",
        "      <td><strong>4 </strong></td>\n",
        "      <td> 1</td>\n",
        "      <td> 43</td>\n",
        "    </tr>\n",
        "    <tr>\n",
        "      <td><strong>5 </strong></td>\n",
        "      <td> 1</td>\n",
        "      <td> 40</td>\n",
        "    </tr>\n",
        "    <tr>\n",
        "      <td><strong>6 </strong></td>\n",
        "      <td> 1</td>\n",
        "      <td> 30</td>\n",
        "    </tr>\n",
        "    <tr>\n",
        "      <td><strong>7 </strong></td>\n",
        "      <td> 1</td>\n",
        "      <td> 42</td>\n",
        "    </tr>\n",
        "    <tr>\n",
        "      <td><strong>8 </strong></td>\n",
        "      <td> 2</td>\n",
        "      <td> 30</td>\n",
        "    </tr>\n",
        "    <tr>\n",
        "      <td><strong>9 </strong></td>\n",
        "      <td> 2</td>\n",
        "      <td> 35</td>\n",
        "    </tr>\n",
        "    <tr>\n",
        "      <td><strong>10</strong></td>\n",
        "      <td> 2</td>\n",
        "      <td> 39</td>\n",
        "    </tr>\n",
        "    <tr>\n",
        "      <td><strong>11</strong></td>\n",
        "      <td> 2</td>\n",
        "      <td> 28</td>\n",
        "    </tr>\n",
        "    <tr>\n",
        "      <td><strong>12</strong></td>\n",
        "      <td> 2</td>\n",
        "      <td> 31</td>\n",
        "    </tr>\n",
        "    <tr>\n",
        "      <td><strong>13</strong></td>\n",
        "      <td> 2</td>\n",
        "      <td> 31</td>\n",
        "    </tr>\n",
        "    <tr>\n",
        "      <td><strong>14</strong></td>\n",
        "      <td> 2</td>\n",
        "      <td> 29</td>\n",
        "    </tr>\n",
        "    <tr>\n",
        "      <td><strong>15</strong></td>\n",
        "      <td> 2</td>\n",
        "      <td> 35</td>\n",
        "    </tr>\n",
        "    <tr>\n",
        "      <td><strong>16</strong></td>\n",
        "      <td> 2</td>\n",
        "      <td> 29</td>\n",
        "    </tr>\n",
        "    <tr>\n",
        "      <td><strong>17</strong></td>\n",
        "      <td> 2</td>\n",
        "      <td> 33</td>\n",
        "    </tr>\n",
        "    <tr>\n",
        "      <td><strong>18</strong></td>\n",
        "      <td> 3</td>\n",
        "      <td> 26</td>\n",
        "    </tr>\n",
        "    <tr>\n",
        "      <td><strong>19</strong></td>\n",
        "      <td> 3</td>\n",
        "      <td> 32</td>\n",
        "    </tr>\n",
        "    <tr>\n",
        "      <td><strong>20</strong></td>\n",
        "      <td> 3</td>\n",
        "      <td> 21</td>\n",
        "    </tr>\n",
        "    <tr>\n",
        "      <td><strong>21</strong></td>\n",
        "      <td> 3</td>\n",
        "      <td> 20</td>\n",
        "    </tr>\n",
        "    <tr>\n",
        "      <td><strong>22</strong></td>\n",
        "      <td> 3</td>\n",
        "      <td> 23</td>\n",
        "    </tr>\n",
        "    <tr>\n",
        "      <td><strong>23</strong></td>\n",
        "      <td> 3</td>\n",
        "      <td> 22</td>\n",
        "    </tr>\n",
        "  </tbody>\n",
        "</table>\n",
        "</div>"
       ],
       "output_type": "pyout",
       "prompt_number": 14,
       "text": [
        "    Fitness  Time\n",
        "0         1    29\n",
        "1         1    42\n",
        "2         1    38\n",
        "3         1    40\n",
        "4         1    43\n",
        "5         1    40\n",
        "6         1    30\n",
        "7         1    42\n",
        "8         2    30\n",
        "9         2    35\n",
        "10        2    39\n",
        "11        2    28\n",
        "12        2    31\n",
        "13        2    31\n",
        "14        2    29\n",
        "15        2    35\n",
        "16        2    29\n",
        "17        2    33\n",
        "18        3    26\n",
        "19        3    32\n",
        "20        3    21\n",
        "21        3    20\n",
        "22        3    23\n",
        "23        3    22"
       ]
      }
     ],
     "prompt_number": 14
    },
    {
     "cell_type": "markdown",
     "metadata": {},
     "source": [
      "To see if the time to rehabilitate an injury is related to the fitness category we do the same as above,\n",
      "but wrapping the predictor in ``C()``."
     ]
    },
    {
     "cell_type": "code",
     "collapsed": false,
     "input": [
      "results = sm.OLS.from_formula('Time ~ C(Fitness)', rehab_table).fit()\n",
      "print results.summary()"
     ],
     "language": "python",
     "metadata": {},
     "outputs": [
      {
       "output_type": "stream",
       "stream": "stdout",
       "text": [
        "                            OLS Regression Results                            \n",
        "==============================================================================\n",
        "Dep. Variable:                   Time   R-squared:                       0.618\n",
        "Model:                            OLS   Adj. R-squared:                  0.581\n",
        "Method:                 Least Squares   F-statistic:                     16.96\n",
        "Date:                Sun, 18 Nov 2012   Prob (F-statistic):           4.13e-05\n",
        "Time:                        12:24:02   Log-Likelihood:                -68.286\n",
        "No. Observations:                  24   AIC:                             142.6\n",
        "Df Residuals:                      21   BIC:                             146.1\n",
        "Df Model:                           2                                         \n",
        "===================================================================================\n",
        "                      coef    std err          t      P>|t|      [95.0% Conf. Int.]\n",
        "-----------------------------------------------------------------------------------\n",
        "Intercept          38.0000      1.574     24.149      0.000        34.728    41.272\n",
        "C(Fitness)[T.2]    -6.0000      2.111     -2.842      0.010       -10.390    -1.610\n",
        "C(Fitness)[T.3]   -14.0000      2.404     -5.824      0.000       -18.999    -9.001\n",
        "==============================================================================\n",
        "Omnibus:                        0.163   Durbin-Watson:                   2.209\n",
        "Prob(Omnibus):                  0.922   Jarque-Bera (JB):                0.211\n",
        "Skew:                          -0.163   Prob(JB):                        0.900\n",
        "Kurtosis:                       2.675   Cond. No.                         3.80\n",
        "==============================================================================\n"
       ]
      }
     ],
     "prompt_number": 15
    },
    {
     "cell_type": "markdown",
     "metadata": {},
     "source": [
      "While all of the information that we want is technically present in this table,\n",
      "we typically want it presented in more standard fashion for ANOVA.\n",
      "We can do this using the ``anova_lm`` function."
     ]
    },
    {
     "cell_type": "code",
     "collapsed": false,
     "input": [
      "from statsmodels.stats.anova import anova_lm\n",
      "\n",
      "anova_lm(results)"
     ],
     "language": "python",
     "metadata": {},
     "outputs": [
      {
       "html": [
        "<div style=\"max-height:1000px;max-width:1500px;overflow:auto;\">\n",
        "<table border=\"1\" class=\"dataframe\">\n",
        "  <thead>\n",
        "    <tr style=\"text-align: right;\">\n",
        "      <th></th>\n",
        "      <th>df</th>\n",
        "      <th>sum_sq</th>\n",
        "      <th>mean_sq</th>\n",
        "      <th>F</th>\n",
        "      <th>PR(>F)</th>\n",
        "    </tr>\n",
        "  </thead>\n",
        "  <tbody>\n",
        "    <tr>\n",
        "      <td><strong>C(Fitness)</strong></td>\n",
        "      <td>  2</td>\n",
        "      <td> 672</td>\n",
        "      <td> 336.000000</td>\n",
        "      <td> 16.961538</td>\n",
        "      <td> 0.000041</td>\n",
        "    </tr>\n",
        "    <tr>\n",
        "      <td><strong>Residual</strong></td>\n",
        "      <td> 21</td>\n",
        "      <td> 416</td>\n",
        "      <td>  19.809524</td>\n",
        "      <td>       NaN</td>\n",
        "      <td>      NaN</td>\n",
        "    </tr>\n",
        "  </tbody>\n",
        "</table>\n",
        "</div>"
       ],
       "output_type": "pyout",
       "prompt_number": 16,
       "text": [
        "            df  sum_sq     mean_sq          F    PR(>F)\n",
        "C(Fitness)   2     672  336.000000  16.961538  0.000041\n",
        "Residual    21     416   19.809524        NaN       NaN"
       ]
      }
     ],
     "prompt_number": 16
    },
    {
     "cell_type": "markdown",
     "metadata": {},
     "source": [
      "### And lots more\n",
      "\n",
      "Statsmodels includes much more advanced functionality including:\n",
      "\n",
      "* Generalized Least Squares (i.e., correlated error structures such as for spatial and comparative analysis)\n",
      "* Generalized Linear Models (i.e., non-normal error)\n",
      "* Robust Linear Models\n",
      "* Regression with Discrete Dependent Variable (e.g., logistic regression)\n",
      "* Time Series analysis"
     ]
    }
   ],
   "metadata": {}
  }
 ]
}