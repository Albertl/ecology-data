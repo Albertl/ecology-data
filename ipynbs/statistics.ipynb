{
 "metadata": {
  "name": "statistics"
 },
 "nbformat": 3,
 "nbformat_minor": 0,
 "worksheets": [
  {
   "cells": [
    {
     "cell_type": "markdown",
     "metadata": {},
     "source": [
      "Statistics in Python\n",
      "====================\n",
      "\n",
      "There are two major modules for doing statistical analyses in Python:\n",
      "\n",
      "* [Scipy](http://docs.scipy.org/doc/scipy/reference/stats.html) - basic statistics and distribution fitting\n",
      "* [Statsmodels](http://statsmodels.sourceforge.net/stable/index.html) - advanced statistical modeling focused on regression\n",
      "\n",
      "To see the full functionality of these modules you'll need to look through\n",
      "their pages, but here are a few examples to show you that a lot of the\n",
      "standard statistical tests and models you need to perform can be easily\n",
      "done inside of Python."
     ]
    },
    {
     "cell_type": "markdown",
     "metadata": {},
     "source": [
      "Imports\n",
      "-------\n",
      "You'll want the ``stats`` module from Scipy and the ``api`` from statsmodels.\n",
      "We'll also go ahead and import Numpy for use in generating data and Matplotlib\n",
      "for some graphing."
     ]
    },
    {
     "cell_type": "code",
     "collapsed": false,
     "input": [
      "import scipy.stats as stats\n",
      "import statsmodels.api as sm\n",
      "\n",
      "import numpy as np\n",
      "import matplotlib.pyplot as plt"
     ],
     "language": "python",
     "metadata": {},
     "outputs": [],
     "prompt_number": 1
    },
    {
     "cell_type": "markdown",
     "metadata": {},
     "source": [
      "### Descriptive Statistics"
     ]
    },
    {
     "cell_type": "code",
     "collapsed": false,
     "input": [
      "x = [1, 2, 3, 4, 5]\n",
      "stats.describe(x)"
     ],
     "language": "python",
     "metadata": {},
     "outputs": [
      {
       "output_type": "pyout",
       "prompt_number": 2,
       "text": [
        "(5, (1, 5), 3.0, 2.5, 0.0, -1.3)"
       ]
      }
     ],
     "prompt_number": 2
    },
    {
     "cell_type": "markdown",
     "metadata": {},
     "source": [
      "### T-tests\n",
      "Standard 1-sample and 2-sample t-tests (as well as most basic statistical tests) are available.\n",
      "T-tests return two values, the t-statistic and the p-value."
     ]
    },
    {
     "cell_type": "code",
     "collapsed": false,
     "input": [
      "x1 = np.random.randn(100, 1)\n",
      "x2 = np.random.randn(100, 1)\n",
      "tstat, pval = stats.ttest_ind(x1, x2)\n",
      "print \"T-statistic = %s; P-value = %s.\" % (tstat, pval)"
     ],
     "language": "python",
     "metadata": {},
     "outputs": [
      {
       "output_type": "stream",
       "stream": "stdout",
       "text": [
        "T-statistic = [-0.34568673]; P-value = [ 0.72994516].\n"
       ]
      }
     ],
     "prompt_number": 3
    },
    {
     "cell_type": "markdown",
     "metadata": {},
     "source": [
      "Regression\n",
      "----------\n",
      "You can do simple univariate OLS regression in Scipy, by for anything more\n",
      "complicated you'll need statsmodels, so we'll just do the basics in stats\n",
      "models as well.\n",
      "\n",
      "First, we'll generate some data and plot it."
     ]
    },
    {
     "cell_type": "code",
     "collapsed": false,
     "input": [
      "#generate some data\n",
      "x = np.array(range(20))\n",
      "y = 3 + 0.5 * x + 2 * np.random.randn(20)\n",
      "\n",
      "#plot the data\n",
      "plt.plot(x, y, 'bo')\n",
      "plt.show()"
     ],
     "language": "python",
     "metadata": {},
     "outputs": [
      {
       "output_type": "display_data",
       "png": "[encoded data removed]"
      }
     ],
     "prompt_number": 4
    },
    {
     "cell_type": "markdown",
     "metadata": {},
     "source": [
      "Now let's do a regression."
     ]
    },
    {
     "cell_type": "code",
     "collapsed": false,
     "input": [
      "X = sm.add_constant(x)\n",
      "results = sm.OLS(y, X).fit()\n",
      "print results.summary()"
     ],
     "language": "python",
     "metadata": {},
     "outputs": [
      {
       "output_type": "stream",
       "stream": "stdout",
       "text": [
        "                            OLS Regression Results                            \n",
        "==============================================================================\n",
        "Dep. Variable:                      y   R-squared:                       0.581\n",
        "Model:                            OLS   Adj. R-squared:                  0.558\n",
        "Method:                 Least Squares   F-statistic:                     24.98\n",
        "Date:                Sun, 28 Oct 2012   Prob (F-statistic):           9.33e-05\n",
        "Time:                        13:37:57   Log-Likelihood:                -42.844\n",
        "No. Observations:                  20   AIC:                             89.69\n",
        "Df Residuals:                      18   BIC:                             91.68\n",
        "Df Model:                           1                                         \n",
        "==============================================================================\n",
        "                 coef    std err          t      P>|t|      [95.0% Conf. Int.]\n",
        "------------------------------------------------------------------------------\n",
        "x1             0.4211      0.084      4.998      0.000         0.244     0.598\n",
        "const          3.5600      0.936      3.802      0.001         1.593     5.527\n",
        "==============================================================================\n",
        "Omnibus:                        0.129   Durbin-Watson:                   2.207\n",
        "Prob(Omnibus):                  0.938   Jarque-Bera (JB):                0.159\n",
        "Skew:                           0.142   Prob(JB):                        0.923\n",
        "Kurtosis:                       2.668   Cond. No.                         21.5\n",
        "==============================================================================\n"
       ]
      },
      {
       "output_type": "stream",
       "stream": "stderr",
       "text": [
        "/usr/local/lib/python2.7/dist-packages/statsmodels/tools/tools.py:306: FutureWarning: The default of `prepend` will be changed to True in 0.5.0, use explicit prepend\n",
        "  FutureWarning)\n"
       ]
      }
     ],
     "prompt_number": 5
    },
    {
     "cell_type": "markdown",
     "metadata": {},
     "source": [
      "So, ``.summary()`` presents us with most of the information we would want about the regression.\n",
      "We can also pull this information out in individual pieces. For example,"
     ]
    },
    {
     "cell_type": "code",
     "collapsed": false,
     "input": [
      "slope, intercept = results.params\n",
      "r2 = results.rsquared\n",
      "print slope, intercept, r2"
     ],
     "language": "python",
     "metadata": {},
     "outputs": [
      {
       "output_type": "stream",
       "stream": "stdout",
       "text": [
        "0.421087238867 3.56000690624 0.581196190274\n"
       ]
      }
     ],
     "prompt_number": 6
    },
    {
     "cell_type": "markdown",
     "metadata": {},
     "source": [
      "This makes it easy to store the key results of large numbers of analyses, or present\n",
      "the results in alternative ways, like graphs."
     ]
    },
    {
     "cell_type": "code",
     "collapsed": false,
     "input": [
      "plt.plot(x, y, 'bo')\n",
      "plt.hold(True)\n",
      "x = np.array([min(x), max(x)])\n",
      "y = intercept + slope * x\n",
      "plt.plot(x, y, 'r-')\n",
      "plt.show()"
     ],
     "language": "python",
     "metadata": {},
     "outputs": [
      {
       "output_type": "display_data",
       "png": "[encoded data removed]"
      }
     ],
     "prompt_number": 7
    },
    {
     "cell_type": "markdown",
     "metadata": {},
     "source": [
      "You'll notice that in order to plot the regression line what we actually do is\n",
      "plot a line with the appropriate slope and intercept by:\n",
      "\n",
      "1. taking the minimum and maximum values of x\n",
      "2. calculating their values of y based on the regression results\n",
      "3. and plotting those two points with a straight line connecting them and no symbols"
     ]
    }
   ],
   "metadata": {}
  }
 ]
}