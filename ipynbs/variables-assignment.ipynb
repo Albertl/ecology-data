{
 "metadata": {
  "name": "variables-assignment"
 }, 
 "nbformat": 2, 
 "worksheets": [
  {
   "cells": [
    {
     "cell_type": "markdown", 
     "source": [
      "Variables & Assignment", 
      "======================", 
      "A variable is a name that has a value associated with it.", 
      "", 
      "You can assign a value to a variable name using the equals sign."
     ]
    }, 
    {
     "cell_type": "code", 
     "collapsed": true, 
     "input": [
      "tail_length_mm = 27"
     ], 
     "language": "python", 
     "outputs": [], 
     "prompt_number": 1
    }, 
    {
     "cell_type": "markdown", 
     "source": [
      "On the left hand side of the equals is the name of the variable. On the right hand side is that value that is assigned to it.", 
      "", 
      "The variable name then works just like typing it's value."
     ]
    }, 
    {
     "cell_type": "code", 
     "collapsed": false, 
     "input": [
      "tail_length_mm"
     ], 
     "language": "python", 
     "outputs": [
      {
       "output_type": "pyout", 
       "prompt_number": 2, 
       "text": [
        "27"
       ]
      }
     ], 
     "prompt_number": 2
    }, 
    {
     "cell_type": "code", 
     "collapsed": false, 
     "input": [
      "10 + tail_length_mm * 2"
     ], 
     "language": "python", 
     "outputs": [
      {
       "output_type": "pyout", 
       "prompt_number": 3, 
       "text": [
        "64"
       ]
      }
     ], 
     "prompt_number": 3
    }, 
    {
     "cell_type": "markdown", 
     "source": [
      "The value of the variable won't change unless you assign a new value to that variable.", 
      "", 
      "The value of one variable can also be assigned to another variable."
     ]
    }, 
    {
     "cell_type": "code", 
     "collapsed": false, 
     "input": [
      "focal_tail_length = tail_length_mm", 
      "focal_tail_length"
     ], 
     "language": "python", 
     "outputs": [
      {
       "output_type": "pyout", 
       "prompt_number": 4, 
       "text": [
        "27"
       ]
      }
     ], 
     "prompt_number": 4
    }, 
    {
     "cell_type": "markdown", 
     "source": [
      "Or we can do a calculation with a variable and then assign it to a new variable."
     ]
    }, 
    {
     "cell_type": "code", 
     "collapsed": false, 
     "input": [
      "tail_length_cm = tail_length_mm / 10.0", 
      "tail_length_cm"
     ], 
     "language": "python", 
     "outputs": [
      {
       "output_type": "pyout", 
       "prompt_number": 5, 
       "text": [
        "2.7"
       ]
      }
     ], 
     "prompt_number": 5
    }
   ]
  }
 ]
}