{
 "metadata": {
  "name": "strings"
 }, 
 "nbformat": 2, 
 "worksheets": [
  {
   "cells": [
    {
     "cell_type": "markdown", 
     "source": [
      "# Strings", 
      "We use text all the time in science and computing to store information like:", 
      "", 
      "* Species names", 
      "* Site names", 
      "* Genetic sequences", 
      "* Information about methods", 
      "", 
      "In Python we store this kind of data in strings.", 
      "", 
      "## Types", 
      "Strings can have one of two major types in Python:", 
      "", 
      "* str: which handles all of the characters in the Latin alphabet (basically anything you'll find on a keyboard in North America)", 
      "* unicode: which handles basically anything that would be a on keyboard anywhere", 
      "", 
      "We'll work with str here, but everything is basically the same using unicode."
     ]
    }, 
    {
     "cell_type": "markdown", 
     "source": [
      "Creating strings", 
      "----------------", 
      "Strings are created using either single or double quotes. It doesn't typically matter which kind of quotes you use, but they do need to match."
     ]
    }, 
    {
     "cell_type": "code", 
     "collapsed": false, 
     "input": [
      "genus = 'Dipodomys'", 
      "species = \"spectabilis\"", 
      "print(genus)", 
      "print(species)"
     ], 
     "language": "python", 
     "outputs": [
      {
       "output_type": "stream", 
       "stream": "stdout", 
       "text": [
        "Dipodomys", 
        "spectabilis"
       ]
      }
     ], 
     "prompt_number": 1
    }, 
    {
     "cell_type": "markdown", 
     "source": [
      "If we want to create a string that has multiple lines we can do this using triple quotes."
     ]
    }, 
    {
     "cell_type": "code", 
     "collapsed": false, 
     "input": [
      "ds_description = \"\"\"Dipodomys spectabilis is the", 
      "scientific name for the", 
      "Banner-tailed Kangaroo Rat.\"\"\"", 
      "print ds_description"
     ], 
     "language": "python", 
     "outputs": [
      {
       "output_type": "stream", 
       "stream": "stdout", 
       "text": [
        "Dipodomys spectabilis is the", 
        "scientific name for the", 
        "Banner-tailed Kangaroo Rat."
       ]
      }
     ], 
     "prompt_number": 2
    }, 
    {
     "cell_type": "markdown", 
     "source": [
      "## Concatenating strings", 
      "We can combine strings using the + operator."
     ]
    }, 
    {
     "cell_type": "code", 
     "collapsed": false, 
     "input": [
      "genus + species + 'weighs about 125 grams.'"
     ], 
     "language": "python", 
     "outputs": [
      {
       "output_type": "pyout", 
       "prompt_number": 3, 
       "text": [
        "'Dipodomysspectabilisweighs about 125 grams.'"
       ]
      }
     ], 
     "prompt_number": 3
    }, 
    {
     "cell_type": "markdown", 
     "source": [
      "If we want spaces between words we need to add them explicitly."
     ]
    }, 
    {
     "cell_type": "code", 
     "collapsed": false, 
     "input": [
      "genus + ' ' + species + ' weighs about 125 grams.'"
     ], 
     "language": "python", 
     "outputs": [
      {
       "output_type": "pyout", 
       "prompt_number": 4, 
       "text": [
        "'Dipodomys spectabilis weighs about 125 grams.'"
       ]
      }
     ], 
     "prompt_number": 4
    }, 
    {
     "cell_type": "markdown", 
     "source": [
      "## Formatted strings", 
      "A better way to achieve this type of output in Python is using formatted strings. Everywhere we want to place a variable or a value in the string we place a % followed by a letter that tells it how we want the information formatted (like a string, an integer, a float, etc.) then after the string we add a % and then a comma separated list of the values/variables to insert in parentheses."
     ]
    }, 
    {
     "cell_type": "code", 
     "collapsed": false, 
     "input": [
      "output = \"%s %s weighs about %d grams.\" % (genus, species, 125)", 
      "print output"
     ], 
     "language": "python", 
     "outputs": [
      {
       "output_type": "stream", 
       "stream": "stdout", 
       "text": [
        "Dipodomys spectabilis weighs about 125 grams."
       ]
      }
     ], 
     "prompt_number": 5
    }, 
    {
     "cell_type": "markdown", 
     "source": [
      "## Escape Characters", 
      "Sometimes in programming we need to change the way a character works, or add a special character to a string. To do this we use escape characters. For example, what if we want to include an apostrophy in a string? If we just add it then things go wrong:"
     ]
    }, 
    {
     "cell_type": "code", 
     "collapsed": false, 
     "input": [
      "print('The individual's mass is 122 grams.')"
     ], 
     "language": "python", 
     "outputs": [
      {
       "ename": "SyntaxError", 
       "evalue": "invalid syntax (<ipython-input-6-cd1ab404344a>, line 1)", 
       "output_type": "pyerr", 
       "traceback": [
        "\u001b[0;36m  File \u001b[0;32m\"<ipython-input-6-cd1ab404344a>\"\u001b[0;36m, line \u001b[0;32m1\u001b[0m\n\u001b[0;31m    print('The individual's mass is 122 grams.')\u001b[0m\n\u001b[0m                          ^\u001b[0m\n\u001b[0;31mSyntaxError\u001b[0m\u001b[0;31m:\u001b[0m invalid syntax\n"
       ]
      }
     ], 
     "prompt_number": 6
    }, 
    {
     "cell_type": "markdown", 
     "source": [
      "This happens because when Python encounters the apostrophy it thinks we're telling it to end the string and it doesn't understand what all of the stuff coming after the string is.", 
      "", 
      "To tell Python that we actually want an apostrophy we use an escape character, the \\ in this case, so instead of typing ' we type \\'"
     ]
    }, 
    {
     "cell_type": "code", 
     "collapsed": false, 
     "input": [
      "print('The individual\\'s mass is 122 grams.')"
     ], 
     "language": "python", 
     "outputs": [
      {
       "output_type": "stream", 
       "stream": "stdout", 
       "text": [
        "The individual's mass is 122 grams."
       ]
      }
     ], 
     "prompt_number": 7
    }, 
    {
     "cell_type": "markdown", 
     "source": [
      "Other escape characters include:", 
      "", 
      "* \\\" - Double quotation mark", 
      "* \\t - Tab", 
      "* \\n - New line", 
      "* \\\\\\\\ - Backslash", 
      "", 
      "Doubling up the escape character to get the character itself is the standard approach to handling that character.", 
      "", 
      "In fact, if we look at our multi-line string from above, we'll see that it is actually just a regular string, with some new lines inserted using \\n."
     ]
    }, 
    {
     "cell_type": "code", 
     "collapsed": false, 
     "input": [
      "ds_description"
     ], 
     "language": "python", 
     "outputs": [
      {
       "output_type": "pyout", 
       "prompt_number": 8, 
       "text": [
        "'Dipodomys spectabilis is the\\nscientific name for the\\nBanner-tailed Kangaroo Rat.'"
       ]
      }
     ], 
     "prompt_number": 8
    }, 
    {
     "cell_type": "markdown", 
     "source": [
      "Because Python allows both single quotes and double quotes, there is also an easy way to avoid escaping characters in some cases. For example,"
     ]
    }, 
    {
     "cell_type": "code", 
     "collapsed": false, 
     "input": [
      "print(\"The individuals's mass is 122 grams.\")", 
      "print('The original paper states that \"The mass of Dipodomys spectabilis is approximately 125 grams.\"')"
     ], 
     "language": "python", 
     "outputs": [
      {
       "output_type": "stream", 
       "stream": "stdout", 
       "text": [
        "The individuals's mass is 122 grams.", 
        "The original paper states that \"The mass of Dipodomys spectabilis is approximately 125 grams.\""
       ]
      }
     ], 
     "prompt_number": 9
    }
   ]
  }
 ]
}