{
 "metadata": {
  "name": "numpy"
 }, 
 "nbformat": 2, 
 "worksheets": [
  {
   "cells": [
    {
     "cell_type": "markdown", 
     "source": [
      "# A brief introduction to Numpy", 
      "[Numpy](http://numpy.scipy.org/) is the fundamental library for scientific computing in Python. It contains list like objects that work like arrays, matrices, and data tables. This is how scientists typically expect data to behave. Numpy also provides linear algebra, Fourier transforms, random number generation, and tools for integrating C/C++ and Fortran code.", 
      "", 
      "If you primarily want to work with tables of data, [Pandas](pandas), which depends on Numpy, is probably the module that you want to start with."
     ]
    }, 
    {
     "cell_type": "markdown", 
     "source": [
      "## Numpy Array Basics", 
      "#### Creating a Numpy array"
     ]
    }, 
    {
     "cell_type": "code", 
     "collapsed": false, 
     "input": [
      "import numpy as np", 
      "", 
      "example_array = np.array([[1, 2, 3], [4, 5, 6], [7, 8, 9]])", 
      "example_array"
     ], 
     "language": "python", 
     "outputs": [
      {
       "output_type": "pyout", 
       "prompt_number": 1, 
       "text": [
        "array([[1, 2, 3],", 
        "       [4, 5, 6],", 
        "       [7, 8, 9]])"
       ]
      }
     ], 
     "prompt_number": 1
    }, 
    {
     "cell_type": "markdown", 
     "source": [
      "#### Indexing an array"
     ]
    }, 
    {
     "cell_type": "code", 
     "collapsed": false, 
     "input": [
      "example_array[1, 1]"
     ], 
     "language": "python", 
     "outputs": [
      {
       "output_type": "pyout", 
       "prompt_number": 2, 
       "text": [
        "5"
       ]
      }
     ], 
     "prompt_number": 2
    }, 
    {
     "cell_type": "markdown", 
     "source": [
      "#### Slicing an array"
     ]
    }, 
    {
     "cell_type": "code", 
     "collapsed": false, 
     "input": [
      "example_array[:, 0]"
     ], 
     "language": "python", 
     "outputs": [
      {
       "output_type": "pyout", 
       "prompt_number": 3, 
       "text": [
        "array([1, 4, 7])"
       ]
      }
     ], 
     "prompt_number": 3
    }, 
    {
     "cell_type": "code", 
     "collapsed": false, 
     "input": [
      "example_array[1, :]"
     ], 
     "language": "python", 
     "outputs": [
      {
       "output_type": "pyout", 
       "prompt_number": 4, 
       "text": [
        "array([4, 5, 6])"
       ]
      }
     ], 
     "prompt_number": 4
    }, 
    {
     "cell_type": "code", 
     "collapsed": false, 
     "input": [
      "example_array[1:3, 1:3]"
     ], 
     "language": "python", 
     "outputs": [
      {
       "output_type": "pyout", 
       "prompt_number": 5, 
       "text": [
        "array([[5, 6],", 
        "       [8, 9]])"
       ]
      }
     ], 
     "prompt_number": 5
    }, 
    {
     "cell_type": "markdown", 
     "source": [
      "#### Subsetting an array"
     ]
    }, 
    {
     "cell_type": "code", 
     "collapsed": false, 
     "input": [
      "array1 = np.array([1, 1, 1, 2, 2, 2, 1])", 
      "array2 = np.array([1, 2, 3, 4, 5, 6, 7])", 
      "array2[array1==1]"
     ], 
     "language": "python", 
     "outputs": [
      {
       "output_type": "pyout", 
       "prompt_number": 6, 
       "text": [
        "array([1, 2, 3, 7])"
       ]
      }
     ], 
     "prompt_number": 6
    }, 
    {
     "cell_type": "code", 
     "collapsed": false, 
     "input": [
      "array3 = np.array(['a', 'a', 'a', 'b', 'b', 'b', 'b'])", 
      "array2[(array1==1) & (array3=='a')]"
     ], 
     "language": "python", 
     "outputs": [
      {
       "output_type": "pyout", 
       "prompt_number": 7, 
       "text": [
        "array([1, 2, 3])"
       ]
      }
     ], 
     "prompt_number": 7
    }, 
    {
     "cell_type": "markdown", 
     "source": [
      "## Math", 
      "### Arrays", 
      "Math on arrays is vectorized and behaves exactly like most scientists would expect"
     ]
    }, 
    {
     "cell_type": "code", 
     "collapsed": false, 
     "input": [
      "array1 = np.array([1, 1, 1, 2, 2, 2, 1])", 
      "array2 = np.array([1, 2, 3, 4, 5, 6, 7])", 
      "", 
      "array1 * 2 + 1"
     ], 
     "language": "python", 
     "outputs": [
      {
       "output_type": "pyout", 
       "prompt_number": 8, 
       "text": [
        "array([3, 3, 3, 5, 5, 5, 3])"
       ]
      }
     ], 
     "prompt_number": 8
    }, 
    {
     "cell_type": "code", 
     "collapsed": false, 
     "input": [
      "array1 * array2"
     ], 
     "language": "python", 
     "outputs": [
      {
       "output_type": "pyout", 
       "prompt_number": 9, 
       "text": [
        "array([ 1,  2,  3,  8, 10, 12,  7])"
       ]
      }
     ], 
     "prompt_number": 9
    }, 
    {
     "cell_type": "markdown", 
     "source": [
      "### Linear algebra (matrices)", 
      "Linear algebra is done using a different data structure called a matrix."
     ]
    }, 
    {
     "cell_type": "code", 
     "collapsed": false, 
     "input": [
      "matrix1 = np.matrix([[1, 2, 3], [4, 5, 6]])", 
      "matrix2 = np.matrix([1, 2, 3])", 
      "matrix1 * matrix2.transpose()"
     ], 
     "language": "python", 
     "outputs": [
      {
       "output_type": "pyout", 
       "prompt_number": 10, 
       "text": [
        "matrix([[14],", 
        "        [32]])"
       ]
      }
     ], 
     "prompt_number": 10
    }, 
    {
     "cell_type": "markdown", 
     "source": [
      "## Importing and Exporting Data", 
      "The numpy function genfromtxt is a powerful way to import text data. It can use different delimiters, skip header rows, control the type of imported data, give columns of data names, and a number of other useful goodies. See the [documentation](http://docs.scipy.org/doc/numpy/reference/generated/numpy.genfromtxt.html) for a full list of features of run help(np.genfromtxt) from the Python shell (after importing the module of course)."
     ]
    }, 
    {
     "cell_type": "markdown", 
     "source": [
      "#### Basic Import"
     ]
    }, 
    {
     "cell_type": "code", 
     "collapsed": false, 
     "input": [
      "data = np.genfromtxt('./data/examp_data.txt', delimiter=',')", 
      "data"
     ], 
     "language": "python", 
     "outputs": [
      {
       "output_type": "pyout", 
       "prompt_number": 11, 
       "text": [
        "array([[ nan,  nan,  nan],", 
        "       [ 1. ,  2. ,  3. ],", 
        "       [ 2. ,  2.4,  6. ],", 
        "       [ 3. ,  1.9,  8. ]])"
       ]
      }
     ], 
     "prompt_number": 11
    }, 
    {
     "cell_type": "markdown", 
     "source": [
      "#### Auto-detect data types by column"
     ]
    }, 
    {
     "cell_type": "code", 
     "collapsed": false, 
     "input": [
      "data = np.genfromtxt('./data/examp_data.txt', dtype=None, delimiter=',')", 
      "data"
     ], 
     "language": "python", 
     "outputs": [
      {
       "output_type": "pyout", 
       "prompt_number": 12, 
       "text": [
        "array([['x', ' y', ' z'],", 
        "       ['1', ' 2', ' 3'],", 
        "       ['2', ' 2.4', ' 6'],", 
        "       ['3', ' 1.9', ' 8']], ", 
        "      dtype='|S4')"
       ]
      }
     ], 
     "prompt_number": 12
    }, 
    {
     "cell_type": "markdown", 
     "source": [
      "#### Get column names from header row"
     ]
    }, 
    {
     "cell_type": "code", 
     "collapsed": false, 
     "input": [
      "data = np.genfromtxt('./data/examp_data.txt', dtype=None, names=True, delimiter=',')", 
      "data"
     ], 
     "language": "python", 
     "outputs": [
      {
       "output_type": "pyout", 
       "prompt_number": 13, 
       "text": [
        "array([(1, 2.0, 3), (2, 2.4, 6), (3, 1.9, 8)], ", 
        "      dtype=[('x', '<i8'), ('y', '<f8'), ('z', '<i8')])"
       ]
      }
     ], 
     "prompt_number": 13
    }, 
    {
     "cell_type": "markdown", 
     "source": [
      "#### Exporting data"
     ]
    }, 
    {
     "cell_type": "code", 
     "collapsed": true, 
     "input": [
      "np.savetxt('./data/examp_output.txt', data, delimiter=',')"
     ], 
     "language": "python", 
     "outputs": [], 
     "prompt_number": 14
    }, 
    {
     "cell_type": "markdown", 
     "source": [
      "## Random number generation", 
      "#### Random uniform (0 to 1)"
     ]
    }, 
    {
     "cell_type": "code", 
     "collapsed": false, 
     "input": [
      "np.random.rand(3, 5)"
     ], 
     "language": "python", 
     "outputs": [
      {
       "output_type": "pyout", 
       "prompt_number": 15, 
       "text": [
        "array([[ 0.4181569 ,  0.8479835 ,  0.25263029,  0.03775713,  0.19998234],", 
        "       [ 0.99249204,  0.80306037,  0.49067285,  0.39498498,  0.36950013],", 
        "       [ 0.3949789 ,  0.37526563,  0.34297573,  0.83831693,  0.71977132]])"
       ]
      }
     ], 
     "prompt_number": 15
    }, 
    {
     "cell_type": "markdown", 
     "source": [
      "#### Random normal (mean=0, stdev=1)"
     ]
    }, 
    {
     "cell_type": "code", 
     "collapsed": false, 
     "input": [
      "np.random.randn(4, 2)"
     ], 
     "language": "python", 
     "outputs": [
      {
       "output_type": "pyout", 
       "prompt_number": 16, 
       "text": [
        "array([[ 0.34510185,  1.03497743],", 
        "       [ 0.44336108,  0.73849758],", 
        "       [-0.20306402,  0.33642328],", 
        "       [-1.41644159, -0.97574139]])"
       ]
      }
     ], 
     "prompt_number": 16
    }, 
    {
     "cell_type": "markdown", 
     "source": [
      "#### Random integers"
     ]
    }, 
    {
     "cell_type": "code", 
     "collapsed": false, 
     "input": [
      "min = 10", 
      "max = 20", 
      "np.random.randint(min, max, [10, 2])"
     ], 
     "language": "python", 
     "outputs": [
      {
       "output_type": "pyout", 
       "prompt_number": 17, 
       "text": [
        "array([[18, 13],", 
        "       [18, 12],", 
        "       [11, 15],", 
        "       [16, 14],", 
        "       [12, 16],", 
        "       [18, 12],", 
        "       [17, 16],", 
        "       [19, 11],", 
        "       [16, 14],", 
        "       [10, 18]])"
       ]
      }
     ], 
     "prompt_number": 17
    }
   ]
  }
 ]
}