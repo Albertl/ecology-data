{
 "metadata": {
  "name": "numpy"
 }, 
 "nbformat": 2, 
 "worksheets": [
  {
   "cells": [
    {
     "cell_type": "markdown", 
     "source": [
      "# A brief introduction to Numpy", 
      "[Numpy](http://numpy.scipy.org/) is the fundamental library for scientific computing in Python. It contains list like objects that work like arrays, matrices, and data tables. This is how scientists typically expect data to behave. Numpy also provides linear algebra, Fourier transforms, random number generation, and tools for integrating C/C++ and Fortran code.", 
      "", 
      "If you primarily want to work with tables of data, [Pandas](pandas), which depends on Numpy, is probably the module that you want to start with."
     ]
    }, 
    {
     "cell_type": "markdown", 
     "source": [
      "## Numpy Array Basics", 
      "#### Creating a Numpy array"
     ]
    }, 
    {
     "cell_type": "code", 
     "collapsed": false, 
     "input": [
      "import numpy as np", 
      "", 
      "example_array = np.array([[1, 2, 3], [4, 5, 6], [7, 8, 9]])", 
      "example_array"
     ], 
     "language": "python", 
     "outputs": [
      {
       "output_type": "pyout", 
       "prompt_number": 1, 
       "text": [
        "array([[1, 2, 3],", 
        "       [4, 5, 6],", 
        "       [7, 8, 9]])"
       ]
      }
     ], 
     "prompt_number": 1
    }, 
    {
     "cell_type": "markdown", 
     "source": [
      "#### Indexing an array"
     ]
    }, 
    {
     "cell_type": "code", 
     "collapsed": false, 
     "input": [
      "example_array[1, 1]"
     ], 
     "language": "python", 
     "outputs": [
      {
       "output_type": "pyout", 
       "prompt_number": 2, 
       "text": [
        "5"
       ]
      }
     ], 
     "prompt_number": 2
    }, 
    {
     "cell_type": "markdown", 
     "source": [
      "#### Slicing an array"
     ]
    }, 
    {
     "cell_type": "code", 
     "collapsed": false, 
     "input": [
      "example_array[:, 0]"
     ], 
     "language": "python", 
     "outputs": [
      {
       "output_type": "pyout", 
       "prompt_number": 3, 
       "text": [
        "array([1, 4, 7])"
       ]
      }
     ], 
     "prompt_number": 3
    }, 
    {
     "cell_type": "code", 
     "collapsed": false, 
     "input": [
      "example_array[1, :]"
     ], 
     "language": "python", 
     "outputs": [
      {
       "output_type": "pyout", 
       "prompt_number": 4, 
       "text": [
        "array([4, 5, 6])"
       ]
      }
     ], 
     "prompt_number": 4
    }, 
    {
     "cell_type": "code", 
     "collapsed": false, 
     "input": [
      "example_array[1:3, 1:3]"
     ], 
     "language": "python", 
     "outputs": [
      {
       "output_type": "pyout", 
       "prompt_number": 5, 
       "text": [
        "array([[5, 6],", 
        "       [8, 9]])"
       ]
      }
     ], 
     "prompt_number": 5
    }, 
    {
     "cell_type": "markdown", 
     "source": [
      "#### Subsetting an array"
     ]
    }, 
    {
     "cell_type": "code", 
     "collapsed": false, 
     "input": [
      "array1 = np.array([1, 1, 1, 2, 2, 2, 1])", 
      "array2 = np.array([1, 2, 3, 4, 5, 6, 7])", 
      "array2[array1==1]"
     ], 
     "language": "python", 
     "outputs": [
      {
       "output_type": "pyout", 
       "prompt_number": 6, 
       "text": [
        "array([1, 2, 3, 7])"
       ]
      }
     ], 
     "prompt_number": 6
    }, 
    {
     "cell_type": "code", 
     "collapsed": false, 
     "input": [
      "array3 = np.array(['a', 'a', 'a', 'b', 'b', 'b', 'b'])", 
      "array2[(array1==1) & (array3=='a')]"
     ], 
     "language": "python", 
     "outputs": [
      {
       "output_type": "pyout", 
       "prompt_number": 7, 
       "text": [
        "array([1, 2, 3])"
       ]
      }
     ], 
     "prompt_number": 7
    }, 
    {
     "cell_type": "markdown", 
     "source": [
      "## Math", 
      "### Arrays", 
      "Math on arrays is vectorized and behaves exactly like most scientists would expect"
     ]
    }, 
    {
     "cell_type": "code", 
     "collapsed": false, 
     "input": [
      "array1 = np.array([1, 1, 1, 2, 2, 2, 1])", 
      "array2 = np.array([1, 2, 3, 4, 5, 6, 7])", 
      "", 
      "array1 * 2 + 1"
     ], 
     "language": "python", 
     "outputs": [
      {
       "output_type": "pyout", 
       "prompt_number": 8, 
       "text": [
        "array([3, 3, 3, 5, 5, 5, 3])"
       ]
      }
     ], 
     "prompt_number": 8
    }, 
    {
     "cell_type": "code", 
     "collapsed": false, 
     "input": [
      "array1 * array2"
     ], 
     "language": "python", 
     "outputs": [
      {
       "output_type": "pyout", 
       "prompt_number": 9, 
       "text": [
        "array([ 1,  2,  3,  8, 10, 12,  7])"
       ]
      }
     ], 
     "prompt_number": 9
    }, 
    {
     "cell_type": "markdown", 
     "source": [
      "### Linear algebra (matrices)", 
      "Linear algebra is done using a different data structure called a matrix."
     ]
    }, 
    {
     "cell_type": "code", 
     "collapsed": false, 
     "input": [
      "matrix1 = np.matrix([[1, 2, 3], [4, 5, 6]])", 
      "matrix2 = np.matrix([1, 2, 3])", 
      "matrix1 * matrix2.transpose()"
     ], 
     "language": "python", 
     "outputs": [
      {
       "output_type": "pyout", 
       "prompt_number": 10, 
       "text": [
        "matrix([[14],", 
        "        [32]])"
       ]
      }
     ], 
     "prompt_number": 10
    }, 
    {
     "cell_type": "markdown", 
     "source": [
      "## Importing and Exporting Data", 
      "The numpy function genfromtxt is a powerful way to import text data.", 
      "It can use different delimiters, skip header rows, control the type of imported data, give columns of data names, and a number of other useful goodies. See the [documentation](http://docs.scipy.org/doc/numpy/reference/generated/numpy.genfromtxt.html) for a full list of features of run help(np.genfromtxt) from the Python shell (after importing the module of course)."
     ]
    }, 
    {
     "cell_type": "markdown", 
     "source": [
      "### Basic Import and Export", 
      "#### Import", 
      "Basic imports using Numpy will treat all data as floats.", 
      "If we're doing a basic import we'll typically want to skip the header row (since it's generally not composed of numbers."
     ]
    }, 
    {
     "cell_type": "code", 
     "collapsed": false, 
     "input": [
      "data = np.genfromtxt('./data/examp_data.txt', delimiter=',', skip_header=1)", 
      "data"
     ], 
     "language": "python", 
     "outputs": [
      {
       "output_type": "pyout", 
       "prompt_number": 11, 
       "text": [
        "array([[ 1. ,  2. ,  3. ],", 
        "       [ 2. ,  2.4,  6. ],", 
        "       [ 3. ,  1.9,  8. ]])"
       ]
      }
     ], 
     "prompt_number": 11
    }, 
    {
     "cell_type": "markdown", 
     "source": [
      "#### Export"
     ]
    }, 
    {
     "cell_type": "code", 
     "collapsed": true, 
     "input": [
      "np.savetxt('./data/examp_output.txt', data, delimiter=',')"
     ], 
     "language": "python", 
     "outputs": [], 
     "prompt_number": 12
    }, 
    {
     "cell_type": "markdown", 
     "source": [
      "### Importing Data Tables", 
      "Lots of scientific data comes in the form of tables, with one row per observation, and one column per thing observed.", 
      "Often the different columns to have different types (including text).", 
      "The best way to work with this type of data is in a Structured Array."
     ]
    }, 
    {
     "cell_type": "markdown", 
     "source": [
      "#### Import", 
      "To do this we let Numpy automatically detect the data types in each column using the optional argument ``dtype=None``.", 
      "We can also use an existing header row as the names for the columns using the optional arugment ``Names=True``."
     ]
    }, 
    {
     "cell_type": "code", 
     "collapsed": false, 
     "input": [
      "data = np.genfromtxt('./data/examp_data_species_mass.txt', dtype=None, names=True, delimiter=',')", 
      "data"
     ], 
     "language": "python", 
     "outputs": [
      {
       "output_type": "pyout", 
       "prompt_number": 13, 
       "text": [
        "array([(1, 'DS', 125), (1, 'DM', 70), (2, 'DM', 55), (1, 'CB', 40),", 
        "       (2, 'DS', 110), (1, 'CB', 45)], ", 
        "      dtype=[('site', '<i8'), ('species', '|S2'), ('mass', '<i8')])"
       ]
      }
     ], 
     "prompt_number": 13
    }, 
    {
     "cell_type": "markdown", 
     "source": [
      "#### Export", 
      "The easiest way to export a structured array is to treat it like a list of lists and export it using the csv module using a function like this."
     ]
    }, 
    {
     "cell_type": "code", 
     "collapsed": true, 
     "input": [
      "def export_to_csv(data, filename):", 
      "    outputfile = open(filename, 'wb')", 
      "    datawriter = csv.writer(outputfile)", 
      "    datawriter.writerows(data)", 
      "    outputfile.close()"
     ], 
     "language": "python", 
     "outputs": [], 
     "prompt_number": 14
    }, 
    {
     "cell_type": "markdown", 
     "source": [
      "Structured Arrays", 
      "-----------------", 
      "If we import data into a Structured Array we can do a lot of things that we often want to do with scientific data."
     ]
    }, 
    {
     "cell_type": "markdown", 
     "source": [
      "#### Selecting columns by name"
     ]
    }, 
    {
     "cell_type": "code", 
     "collapsed": false, 
     "input": [
      "data = np.genfromtxt('./data/examp_data_species_mass.txt', dtype=None, names=True, delimiter=',')", 
      "print data", 
      "data['species']"
     ], 
     "language": "python", 
     "outputs": [
      {
       "output_type": "stream", 
       "stream": "stdout", 
       "text": [
        "[(1, 'DS', 125) (1, 'DM', 70) (2, 'DM', 55) (1, 'CB', 40) (2, 'DS', 110)", 
        " (1, 'CB', 45)]"
       ]
      }, 
      {
       "output_type": "pyout", 
       "prompt_number": 15, 
       "text": [
        "array(['DS', 'DM', 'DM', 'CB', 'DS', 'CB'], ", 
        "      dtype='|S2')"
       ]
      }
     ], 
     "prompt_number": 15
    }, 
    {
     "cell_type": "markdown", 
     "source": [
      "#### Subset columns based on the values in other columns"
     ]
    }, 
    {
     "cell_type": "code", 
     "collapsed": false, 
     "input": [
      "data['mass'][data['species'] == 'DM']"
     ], 
     "language": "python", 
     "outputs": [
      {
       "output_type": "pyout", 
       "prompt_number": 16, 
       "text": [
        "array([70, 55])"
       ]
      }
     ], 
     "prompt_number": 16
    }, 
    {
     "cell_type": "code", 
     "collapsed": false, 
     "input": [
      "data['mass'][(data['species'] == 'DM') & (data['site'] == 1)]"
     ], 
     "language": "python", 
     "outputs": [
      {
       "output_type": "pyout", 
       "prompt_number": 17, 
       "text": [
        "array([70])"
       ]
      }
     ], 
     "prompt_number": 17
    }, 
    {
     "cell_type": "markdown", 
     "source": [
      "## Random number generation", 
      "#### Random uniform (0 to 1)"
     ]
    }, 
    {
     "cell_type": "code", 
     "collapsed": false, 
     "input": [
      "np.random.rand(3, 5)"
     ], 
     "language": "python", 
     "outputs": [
      {
       "output_type": "pyout", 
       "prompt_number": 18, 
       "text": [
        "array([[ 0.03414585,  0.83900235,  0.93206285,  0.06820967,  0.70145045],", 
        "       [ 0.552352  ,  0.76730225,  0.06316622,  0.71285231,  0.81976971],", 
        "       [ 0.39709379,  0.71772434,  0.21598482,  0.96412023,  0.69841293]])"
       ]
      }
     ], 
     "prompt_number": 18
    }, 
    {
     "cell_type": "markdown", 
     "source": [
      "#### Random normal (mean=0, stdev=1)"
     ]
    }, 
    {
     "cell_type": "code", 
     "collapsed": false, 
     "input": [
      "np.random.randn(4, 2)"
     ], 
     "language": "python", 
     "outputs": [
      {
       "output_type": "pyout", 
       "prompt_number": 19, 
       "text": [
        "array([[ 0.04802043, -0.89025722],", 
        "       [ 0.46246887,  1.11994326],", 
        "       [-0.95655129,  0.76707094],", 
        "       [-1.61019706, -0.21933367]])"
       ]
      }
     ], 
     "prompt_number": 19
    }, 
    {
     "cell_type": "markdown", 
     "source": [
      "#### Random integers"
     ]
    }, 
    {
     "cell_type": "code", 
     "collapsed": false, 
     "input": [
      "min = 10", 
      "max = 20", 
      "np.random.randint(min, max, [10, 2])"
     ], 
     "language": "python", 
     "outputs": [
      {
       "output_type": "pyout", 
       "prompt_number": 20, 
       "text": [
        "array([[13, 10],", 
        "       [18, 10],", 
        "       [10, 12],", 
        "       [10, 16],", 
        "       [17, 12],", 
        "       [17, 13],", 
        "       [19, 16],", 
        "       [11, 17],", 
        "       [11, 16],", 
        "       [16, 18]])"
       ]
      }
     ], 
     "prompt_number": 20
    }
   ]
  }
 ]
}