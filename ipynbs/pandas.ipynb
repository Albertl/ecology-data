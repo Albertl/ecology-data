{
 "metadata": {
  "name": "pandas"
 }, 
 "nbformat": 2, 
 "worksheets": [
  {
   "cells": [
    {
     "cell_type": "markdown", 
     "source": [
      "Pandas", 
      "======", 
      "Pandas is a powerful data management library that produces data structures and associated tools that are ideal for scientific computing tasks related to data."
     ]
    }, 
    {
     "cell_type": "markdown", 
     "source": [
      "Importing Data", 
      "--------------", 
      "Importing data from text files is easy."
     ]
    }, 
    {
     "cell_type": "code", 
     "collapsed": false, 
     "input": [
      "import pandas as pd", 
      "data = pd.read_csv('./data/examp_data.txt')", 
      "print data"
     ], 
     "language": "python", 
     "outputs": [
      {
       "output_type": "stream", 
       "stream": "stdout", 
       "text": [
        "   x    y  z", 
        "0  1  2.0  3", 
        "1  2  2.4  6", 
        "2  3  1.9  8"
       ]
      }
     ], 
     "prompt_number": 1
    }, 
    {
     "cell_type": "markdown", 
     "source": [
      "We can also choose to use the first row of the data as an the index (the numbers to the left of the table). The index has special properties and is particularly useful for time-series data. Index columns should be unique."
     ]
    }, 
    {
     "cell_type": "code", 
     "collapsed": false, 
     "input": [
      "data_w_index = pd.read_csv('./data/examp_data.txt', index_col=0)", 
      "print data_w_index"
     ], 
     "language": "python", 
     "outputs": [
      {
       "output_type": "stream", 
       "stream": "stdout", 
       "text": [
        "     y  z", 
        "x        ", 
        "1  2.0  3", 
        "2  2.4  6", 
        "3  1.9  8"
       ]
      }
     ], 
     "prompt_number": 2
    }, 
    {
     "cell_type": "markdown", 
     "source": [
      "Selecting columns", 
      "-----------------", 
      "Specific columns can be selected using their names. "
     ]
    }, 
    {
     "cell_type": "code", 
     "collapsed": false, 
     "input": [
      "data['y']"
     ], 
     "language": "python", 
     "outputs": [
      {
       "output_type": "pyout", 
       "prompt_number": 3, 
       "text": [
        "0    2.0", 
        "1    2.4", 
        "2    1.9", 
        "Name: y"
       ]
      }
     ], 
     "prompt_number": 3
    }, 
    {
     "cell_type": "markdown", 
     "source": [
      "Multiple columns can selected using a list of names in the desired order."
     ]
    }, 
    {
     "cell_type": "code", 
     "collapsed": false, 
     "input": [
      "data[['z', 'x']]"
     ], 
     "language": "python", 
     "outputs": [
      {
       "html": [
        "<div style=\"max-height:1000px;max-width:1500px;overflow:auto;\">", 
        "<table border=\"1\">", 
        "  <thead>", 
        "    <tr>", 
        "      <th></th>", 
        "      <th>z</th>", 
        "      <th>x</th>", 
        "    </tr>", 
        "  </thead>", 
        "  <tbody>", 
        "    <tr>", 
        "      <td><strong>0</strong></td>", 
        "      <td> 3</td>", 
        "      <td> 1</td>", 
        "    </tr>", 
        "    <tr>", 
        "      <td><strong>1</strong></td>", 
        "      <td> 6</td>", 
        "      <td> 2</td>", 
        "    </tr>", 
        "    <tr>", 
        "      <td><strong>2</strong></td>", 
        "      <td> 8</td>", 
        "      <td> 3</td>", 
        "    </tr>", 
        "  </tbody>", 
        "</table>", 
        "</div>"
       ], 
       "output_type": "pyout", 
       "prompt_number": 4, 
       "text": [
        "   z  x", 
        "0  3  1", 
        "1  6  2", 
        "2  8  3"
       ]
      }
     ], 
     "prompt_number": 4
    }, 
    {
     "cell_type": "markdown", 
     "source": [
      "Selecting rows", 
      "--------------", 
      "Rows can be selected by their index (the values to the left-hand side of the table) or by position."
     ]
    }, 
    {
     "cell_type": "code", 
     "collapsed": false, 
     "input": [
      "data_w_index"
     ], 
     "language": "python", 
     "outputs": [
      {
       "html": [
        "<div style=\"max-height:1000px;max-width:1500px;overflow:auto;\">", 
        "<table border=\"1\">", 
        "  <thead>", 
        "    <tr>", 
        "      <th></th>", 
        "      <th>y</th>", 
        "      <th>z</th>", 
        "    </tr>", 
        "    <tr>", 
        "      <th>x</th>", 
        "      <th></th>", 
        "      <th></th>", 
        "    </tr>", 
        "  </thead>", 
        "  <tbody>", 
        "    <tr>", 
        "      <td><strong>1</strong></td>", 
        "      <td> 2.0</td>", 
        "      <td> 3</td>", 
        "    </tr>", 
        "    <tr>", 
        "      <td><strong>2</strong></td>", 
        "      <td> 2.4</td>", 
        "      <td> 6</td>", 
        "    </tr>", 
        "    <tr>", 
        "      <td><strong>3</strong></td>", 
        "      <td> 1.9</td>", 
        "      <td> 8</td>", 
        "    </tr>", 
        "  </tbody>", 
        "</table>", 
        "</div>"
       ], 
       "output_type": "pyout", 
       "prompt_number": 5, 
       "text": [
        "     y  z", 
        "x        ", 
        "1  2.0  3", 
        "2  2.4  6", 
        "3  1.9  8"
       ]
      }
     ], 
     "prompt_number": 5
    }, 
    {
     "cell_type": "code", 
     "collapsed": false, 
     "input": [
      "data_w_index.xs(2)"
     ], 
     "language": "python", 
     "outputs": [
      {
       "output_type": "pyout", 
       "prompt_number": 6, 
       "text": [
        "y    2.4", 
        "z    6.0", 
        "Name: 2"
       ]
      }
     ], 
     "prompt_number": 6
    }, 
    {
     "cell_type": "code", 
     "collapsed": false, 
     "input": [
      "data_w_index.values[1]"
     ], 
     "language": "python", 
     "outputs": [
      {
       "output_type": "pyout", 
       "prompt_number": 7, 
       "text": [
        "array([ 2.4,  6. ])"
       ]
      }
     ], 
     "prompt_number": 7
    }, 
    {
     "cell_type": "markdown", 
     "source": [
      "You can also grab a section of the dataframe."
     ]
    }, 
    {
     "cell_type": "code", 
     "collapsed": false, 
     "input": [
      "data_w_index[:2]"
     ], 
     "language": "python", 
     "outputs": [
      {
       "html": [
        "<div style=\"max-height:1000px;max-width:1500px;overflow:auto;\">", 
        "<table border=\"1\">", 
        "  <thead>", 
        "    <tr>", 
        "      <th></th>", 
        "      <th>y</th>", 
        "      <th>z</th>", 
        "    </tr>", 
        "    <tr>", 
        "      <th>x</th>", 
        "      <th></th>", 
        "      <th></th>", 
        "    </tr>", 
        "  </thead>", 
        "  <tbody>", 
        "    <tr>", 
        "      <td><strong>1</strong></td>", 
        "      <td> 2.0</td>", 
        "      <td> 3</td>", 
        "    </tr>", 
        "    <tr>", 
        "      <td><strong>2</strong></td>", 
        "      <td> 2.4</td>", 
        "      <td> 6</td>", 
        "    </tr>", 
        "  </tbody>", 
        "</table>", 
        "</div>"
       ], 
       "output_type": "pyout", 
       "prompt_number": 11, 
       "text": [
        "     y  z", 
        "x        ", 
        "1  2.0  3", 
        "2  2.4  6"
       ]
      }
     ], 
     "prompt_number": 11
    }, 
    {
     "cell_type": "markdown", 
     "source": [
      "Looping over rows", 
      "-------------------", 
      "Looping over the rows in a dataframe involves looping over the data itself, which is stored in data.values."
     ]
    }, 
    {
     "cell_type": "code", 
     "collapsed": false, 
     "input": [
      "for row in data.values:", 
      "    print row * 2"
     ], 
     "language": "python", 
     "outputs": [
      {
       "output_type": "stream", 
       "stream": "stdout", 
       "text": [
        "[ 2.  4.  6.]", 
        "[  4.    4.8  12. ]", 
        "[  6.    3.8  16. ]"
       ]
      }
     ], 
     "prompt_number": 9
    }, 
    {
     "cell_type": "code", 
     "collapsed": false, 
     "input": [
      "data.values[0]", 
      "data.ix[1]"
     ], 
     "language": "python", 
     "outputs": [
      {
       "output_type": "pyout", 
       "prompt_number": 10, 
       "text": [
        "x    2.0", 
        "y    2.4", 
        "z    6.0", 
        "Name: 1"
       ]
      }
     ], 
     "prompt_number": 10
    }, 
    {
     "cell_type": "markdown", 
     "source": []
    }
   ]
  }
 ]
}